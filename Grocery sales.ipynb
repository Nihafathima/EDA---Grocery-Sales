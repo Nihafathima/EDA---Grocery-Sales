{
 "cells": [
  {
   "cell_type": "code",
   "execution_count": 4,
   "id": "0cb91da6",
   "metadata": {},
   "outputs": [],
   "source": [
    "import numpy as np\n",
    "import pandas as pd\n",
    "import seaborn as sns\n",
    "import datetime as dt\n",
    "import matplotlib.pyplot as plt"
   ]
  },
  {
   "cell_type": "code",
   "execution_count": 5,
   "id": "d4aff96b",
   "metadata": {},
   "outputs": [],
   "source": [
    "grocery = pd.read_csv(r\"C:\\Users\\azeem\\Downloads\\archive1\\Supermart_Grocery_Sales-Retail_Analytics_Dataset.csv\")"
   ]
  },
  {
   "cell_type": "code",
   "execution_count": 24,
   "id": "e8ffa7cf",
   "metadata": {},
   "outputs": [
    {
     "name": "stdout",
     "output_type": "stream",
     "text": [
      "994.5\n"
     ]
    }
   ],
   "source": [
    "# Outliers for Sales\n",
    "Q1 = grocery[\"Sales\"].quantile(0.25)\n",
    "Q3 = grocery[\"Sales\"].quantile(0.75)\n",
    "IQR = Q3 - Q1\n",
    "print(IQR)"
   ]
  },
  {
   "cell_type": "code",
   "execution_count": 7,
   "id": "8b3869d7",
   "metadata": {},
   "outputs": [
    {
     "name": "stdout",
     "output_type": "stream",
     "text": [
      "345.52000000000004\n"
     ]
    }
   ],
   "source": [
    "# Outliers for Profit\n",
    "Q1 = grocery[\"Profit\"].quantile(0.25)\n",
    "Q3 = grocery[\"Profit\"].quantile(0.75)\n",
    "IQR = Q3 - Q1\n",
    "print(IQR)"
   ]
  },
  {
   "cell_type": "code",
   "execution_count": 332,
   "id": "5b47405b",
   "metadata": {},
   "outputs": [
    {
     "data": {
      "text/plain": [
       "False    9995\n",
       "Name: Discount, dtype: int64"
      ]
     },
     "execution_count": 332,
     "metadata": {},
     "output_type": "execute_result"
    }
   ],
   "source": [
    "# Outliers for Discout \n",
    "outliers = (grocery[\"Discount\"] < (Q1 - 1.5 * IQR)) | (grocery[\"Discount\"] > (Q3 + 1.5 * IQR))\n",
    "outliers.value_counts()\n",
    "less = (grocery[\"Discount\"] < (Q1 - 1.5 * IQR))\n",
    "less.value_counts()\n",
    "more = (grocery[\"Discount\"] > (Q3 + 1.5 * IQR))\n",
    "more.value_counts()"
   ]
  },
  {
   "cell_type": "code",
   "execution_count": 333,
   "id": "d383e55f",
   "metadata": {
    "scrolled": true
   },
   "outputs": [
    {
     "data": {
      "text/html": [
       "<div>\n",
       "<style scoped>\n",
       "    .dataframe tbody tr th:only-of-type {\n",
       "        vertical-align: middle;\n",
       "    }\n",
       "\n",
       "    .dataframe tbody tr th {\n",
       "        vertical-align: top;\n",
       "    }\n",
       "\n",
       "    .dataframe thead th {\n",
       "        text-align: right;\n",
       "    }\n",
       "</style>\n",
       "<table border=\"1\" class=\"dataframe\">\n",
       "  <thead>\n",
       "    <tr style=\"text-align: right;\">\n",
       "      <th></th>\n",
       "      <th>Order ID</th>\n",
       "      <th>Customer Name</th>\n",
       "      <th>Category</th>\n",
       "      <th>Sub Category</th>\n",
       "      <th>City</th>\n",
       "      <th>Order Date</th>\n",
       "      <th>Region</th>\n",
       "      <th>Sales</th>\n",
       "      <th>Discount</th>\n",
       "      <th>Profit</th>\n",
       "      <th>State</th>\n",
       "      <th>Order Year</th>\n",
       "    </tr>\n",
       "  </thead>\n",
       "  <tbody>\n",
       "    <tr>\n",
       "      <th>0</th>\n",
       "      <td>OD1</td>\n",
       "      <td>Harish</td>\n",
       "      <td>Oil &amp; Masala</td>\n",
       "      <td>Masalas</td>\n",
       "      <td>Vellore</td>\n",
       "      <td>11-08-2017</td>\n",
       "      <td>North</td>\n",
       "      <td>1254.000000</td>\n",
       "      <td>0.120000</td>\n",
       "      <td>401.280000</td>\n",
       "      <td>Tamil Nadu</td>\n",
       "      <td>2017.0</td>\n",
       "    </tr>\n",
       "    <tr>\n",
       "      <th>1</th>\n",
       "      <td>OD2</td>\n",
       "      <td>Sudha</td>\n",
       "      <td>Beverages</td>\n",
       "      <td>Health Drinks</td>\n",
       "      <td>Krishnagiri</td>\n",
       "      <td>11-08-2017</td>\n",
       "      <td>South</td>\n",
       "      <td>749.000000</td>\n",
       "      <td>0.180000</td>\n",
       "      <td>149.800000</td>\n",
       "      <td>Tamil Nadu</td>\n",
       "      <td>2017.0</td>\n",
       "    </tr>\n",
       "    <tr>\n",
       "      <th>2</th>\n",
       "      <td>OD3</td>\n",
       "      <td>Hussain</td>\n",
       "      <td>Food Grains</td>\n",
       "      <td>Atta &amp; Flour</td>\n",
       "      <td>Perambalur</td>\n",
       "      <td>06-12-2017</td>\n",
       "      <td>West</td>\n",
       "      <td>2360.000000</td>\n",
       "      <td>0.210000</td>\n",
       "      <td>165.200000</td>\n",
       "      <td>Tamil Nadu</td>\n",
       "      <td>2017.0</td>\n",
       "    </tr>\n",
       "    <tr>\n",
       "      <th>3</th>\n",
       "      <td>OD4</td>\n",
       "      <td>Jackson</td>\n",
       "      <td>Fruits &amp; Veggies</td>\n",
       "      <td>Fresh Vegetables</td>\n",
       "      <td>Dharmapuri</td>\n",
       "      <td>10-11-2016</td>\n",
       "      <td>South</td>\n",
       "      <td>896.000000</td>\n",
       "      <td>0.250000</td>\n",
       "      <td>89.600000</td>\n",
       "      <td>Tamil Nadu</td>\n",
       "      <td>2016.0</td>\n",
       "    </tr>\n",
       "    <tr>\n",
       "      <th>4</th>\n",
       "      <td>OD5</td>\n",
       "      <td>Ridhesh</td>\n",
       "      <td>Food Grains</td>\n",
       "      <td>Organic Staples</td>\n",
       "      <td>Ooty</td>\n",
       "      <td>10-11-2016</td>\n",
       "      <td>South</td>\n",
       "      <td>2355.000000</td>\n",
       "      <td>0.260000</td>\n",
       "      <td>918.450000</td>\n",
       "      <td>Tamil Nadu</td>\n",
       "      <td>2016.0</td>\n",
       "    </tr>\n",
       "    <tr>\n",
       "      <th>...</th>\n",
       "      <td>...</td>\n",
       "      <td>...</td>\n",
       "      <td>...</td>\n",
       "      <td>...</td>\n",
       "      <td>...</td>\n",
       "      <td>...</td>\n",
       "      <td>...</td>\n",
       "      <td>...</td>\n",
       "      <td>...</td>\n",
       "      <td>...</td>\n",
       "      <td>...</td>\n",
       "      <td>...</td>\n",
       "    </tr>\n",
       "    <tr>\n",
       "      <th>9990</th>\n",
       "      <td>OD9991</td>\n",
       "      <td>Alan</td>\n",
       "      <td>Bakery</td>\n",
       "      <td>Biscuits</td>\n",
       "      <td>Kanyakumari</td>\n",
       "      <td>07-12-2015</td>\n",
       "      <td>West</td>\n",
       "      <td>1195.000000</td>\n",
       "      <td>0.260000</td>\n",
       "      <td>71.700000</td>\n",
       "      <td>Tamil Nadu</td>\n",
       "      <td>2015.0</td>\n",
       "    </tr>\n",
       "    <tr>\n",
       "      <th>9991</th>\n",
       "      <td>OD9992</td>\n",
       "      <td>Ravi</td>\n",
       "      <td>Food Grains</td>\n",
       "      <td>Rice</td>\n",
       "      <td>Bodi</td>\n",
       "      <td>06-06-2017</td>\n",
       "      <td>West</td>\n",
       "      <td>1567.000000</td>\n",
       "      <td>0.160000</td>\n",
       "      <td>501.440000</td>\n",
       "      <td>Tamil Nadu</td>\n",
       "      <td>2017.0</td>\n",
       "    </tr>\n",
       "    <tr>\n",
       "      <th>9992</th>\n",
       "      <td>OD9993</td>\n",
       "      <td>Peer</td>\n",
       "      <td>Oil &amp; Masala</td>\n",
       "      <td>Spices</td>\n",
       "      <td>Pudukottai</td>\n",
       "      <td>10-16-2018</td>\n",
       "      <td>West</td>\n",
       "      <td>1659.000000</td>\n",
       "      <td>0.150000</td>\n",
       "      <td>597.240000</td>\n",
       "      <td>Tamil Nadu</td>\n",
       "      <td>2018.0</td>\n",
       "    </tr>\n",
       "    <tr>\n",
       "      <th>9993</th>\n",
       "      <td>OD9994</td>\n",
       "      <td>Ganesh</td>\n",
       "      <td>Food Grains</td>\n",
       "      <td>Atta &amp; Flour</td>\n",
       "      <td>Tirunelveli</td>\n",
       "      <td>4-17-2018</td>\n",
       "      <td>West</td>\n",
       "      <td>1034.000000</td>\n",
       "      <td>0.280000</td>\n",
       "      <td>165.440000</td>\n",
       "      <td>Tamil Nadu</td>\n",
       "      <td>2018.0</td>\n",
       "    </tr>\n",
       "    <tr>\n",
       "      <th>9994</th>\n",
       "      <td>NaN</td>\n",
       "      <td>NaN</td>\n",
       "      <td>NaN</td>\n",
       "      <td>NaN</td>\n",
       "      <td>NaN</td>\n",
       "      <td>NaN</td>\n",
       "      <td>NaN</td>\n",
       "      <td>1496.596158</td>\n",
       "      <td>0.226817</td>\n",
       "      <td>374.937082</td>\n",
       "      <td>NaN</td>\n",
       "      <td>NaN</td>\n",
       "    </tr>\n",
       "  </tbody>\n",
       "</table>\n",
       "<p>9995 rows × 12 columns</p>\n",
       "</div>"
      ],
      "text/plain": [
       "     Order ID Customer Name          Category      Sub Category         City  \\\n",
       "0         OD1        Harish      Oil & Masala           Masalas      Vellore   \n",
       "1         OD2         Sudha         Beverages     Health Drinks  Krishnagiri   \n",
       "2         OD3       Hussain       Food Grains      Atta & Flour   Perambalur   \n",
       "3         OD4       Jackson  Fruits & Veggies  Fresh Vegetables   Dharmapuri   \n",
       "4         OD5       Ridhesh       Food Grains   Organic Staples         Ooty   \n",
       "...       ...           ...               ...               ...          ...   \n",
       "9990   OD9991          Alan            Bakery          Biscuits  Kanyakumari   \n",
       "9991   OD9992          Ravi       Food Grains              Rice         Bodi   \n",
       "9992   OD9993          Peer      Oil & Masala            Spices   Pudukottai   \n",
       "9993   OD9994        Ganesh       Food Grains      Atta & Flour  Tirunelveli   \n",
       "9994      NaN           NaN               NaN               NaN          NaN   \n",
       "\n",
       "      Order Date Region        Sales  Discount      Profit       State  \\\n",
       "0     11-08-2017  North  1254.000000  0.120000  401.280000  Tamil Nadu   \n",
       "1     11-08-2017  South   749.000000  0.180000  149.800000  Tamil Nadu   \n",
       "2     06-12-2017   West  2360.000000  0.210000  165.200000  Tamil Nadu   \n",
       "3     10-11-2016  South   896.000000  0.250000   89.600000  Tamil Nadu   \n",
       "4     10-11-2016  South  2355.000000  0.260000  918.450000  Tamil Nadu   \n",
       "...          ...    ...          ...       ...         ...         ...   \n",
       "9990  07-12-2015   West  1195.000000  0.260000   71.700000  Tamil Nadu   \n",
       "9991  06-06-2017   West  1567.000000  0.160000  501.440000  Tamil Nadu   \n",
       "9992  10-16-2018   West  1659.000000  0.150000  597.240000  Tamil Nadu   \n",
       "9993   4-17-2018   West  1034.000000  0.280000  165.440000  Tamil Nadu   \n",
       "9994         NaN    NaN  1496.596158  0.226817  374.937082         NaN   \n",
       "\n",
       "      Order Year  \n",
       "0         2017.0  \n",
       "1         2017.0  \n",
       "2         2017.0  \n",
       "3         2016.0  \n",
       "4         2016.0  \n",
       "...          ...  \n",
       "9990      2015.0  \n",
       "9991      2017.0  \n",
       "9992      2018.0  \n",
       "9993      2018.0  \n",
       "9994         NaN  \n",
       "\n",
       "[9995 rows x 12 columns]"
      ]
     },
     "execution_count": 333,
     "metadata": {},
     "output_type": "execute_result"
    }
   ],
   "source": [
    "# Displays the dataset\n",
    "grocery"
   ]
  },
  {
   "cell_type": "code",
   "execution_count": 189,
   "id": "1c4853d0",
   "metadata": {
    "scrolled": true
   },
   "outputs": [
    {
     "data": {
      "text/html": [
       "<div>\n",
       "<style scoped>\n",
       "    .dataframe tbody tr th:only-of-type {\n",
       "        vertical-align: middle;\n",
       "    }\n",
       "\n",
       "    .dataframe tbody tr th {\n",
       "        vertical-align: top;\n",
       "    }\n",
       "\n",
       "    .dataframe thead th {\n",
       "        text-align: right;\n",
       "    }\n",
       "</style>\n",
       "<table border=\"1\" class=\"dataframe\">\n",
       "  <thead>\n",
       "    <tr style=\"text-align: right;\">\n",
       "      <th></th>\n",
       "      <th>Order ID</th>\n",
       "      <th>Customer Name</th>\n",
       "      <th>Category</th>\n",
       "      <th>Sub Category</th>\n",
       "      <th>City</th>\n",
       "      <th>Order Date</th>\n",
       "      <th>Region</th>\n",
       "      <th>Sales</th>\n",
       "      <th>Discount</th>\n",
       "      <th>Profit</th>\n",
       "      <th>State</th>\n",
       "    </tr>\n",
       "  </thead>\n",
       "  <tbody>\n",
       "    <tr>\n",
       "      <th>0</th>\n",
       "      <td>OD1</td>\n",
       "      <td>Harish</td>\n",
       "      <td>Oil &amp; Masala</td>\n",
       "      <td>Masalas</td>\n",
       "      <td>Vellore</td>\n",
       "      <td>11-08-2017</td>\n",
       "      <td>North</td>\n",
       "      <td>1254</td>\n",
       "      <td>0.12</td>\n",
       "      <td>401.28</td>\n",
       "      <td>Tamil Nadu</td>\n",
       "    </tr>\n",
       "    <tr>\n",
       "      <th>1</th>\n",
       "      <td>OD2</td>\n",
       "      <td>Sudha</td>\n",
       "      <td>Beverages</td>\n",
       "      <td>Health Drinks</td>\n",
       "      <td>Krishnagiri</td>\n",
       "      <td>11-08-2017</td>\n",
       "      <td>South</td>\n",
       "      <td>749</td>\n",
       "      <td>0.18</td>\n",
       "      <td>149.80</td>\n",
       "      <td>Tamil Nadu</td>\n",
       "    </tr>\n",
       "    <tr>\n",
       "      <th>2</th>\n",
       "      <td>OD3</td>\n",
       "      <td>Hussain</td>\n",
       "      <td>Food Grains</td>\n",
       "      <td>Atta &amp; Flour</td>\n",
       "      <td>Perambalur</td>\n",
       "      <td>06-12-2017</td>\n",
       "      <td>West</td>\n",
       "      <td>2360</td>\n",
       "      <td>0.21</td>\n",
       "      <td>165.20</td>\n",
       "      <td>Tamil Nadu</td>\n",
       "    </tr>\n",
       "    <tr>\n",
       "      <th>3</th>\n",
       "      <td>OD4</td>\n",
       "      <td>Jackson</td>\n",
       "      <td>Fruits &amp; Veggies</td>\n",
       "      <td>Fresh Vegetables</td>\n",
       "      <td>Dharmapuri</td>\n",
       "      <td>10-11-2016</td>\n",
       "      <td>South</td>\n",
       "      <td>896</td>\n",
       "      <td>0.25</td>\n",
       "      <td>89.60</td>\n",
       "      <td>Tamil Nadu</td>\n",
       "    </tr>\n",
       "    <tr>\n",
       "      <th>4</th>\n",
       "      <td>OD5</td>\n",
       "      <td>Ridhesh</td>\n",
       "      <td>Food Grains</td>\n",
       "      <td>Organic Staples</td>\n",
       "      <td>Ooty</td>\n",
       "      <td>10-11-2016</td>\n",
       "      <td>South</td>\n",
       "      <td>2355</td>\n",
       "      <td>0.26</td>\n",
       "      <td>918.45</td>\n",
       "      <td>Tamil Nadu</td>\n",
       "    </tr>\n",
       "  </tbody>\n",
       "</table>\n",
       "</div>"
      ],
      "text/plain": [
       "  Order ID Customer Name          Category      Sub Category         City  \\\n",
       "0      OD1        Harish      Oil & Masala           Masalas      Vellore   \n",
       "1      OD2         Sudha         Beverages     Health Drinks  Krishnagiri   \n",
       "2      OD3       Hussain       Food Grains      Atta & Flour   Perambalur   \n",
       "3      OD4       Jackson  Fruits & Veggies  Fresh Vegetables   Dharmapuri   \n",
       "4      OD5       Ridhesh       Food Grains   Organic Staples         Ooty   \n",
       "\n",
       "   Order Date Region  Sales  Discount  Profit       State  \n",
       "0  11-08-2017  North   1254      0.12  401.28  Tamil Nadu  \n",
       "1  11-08-2017  South    749      0.18  149.80  Tamil Nadu  \n",
       "2  06-12-2017   West   2360      0.21  165.20  Tamil Nadu  \n",
       "3  10-11-2016  South    896      0.25   89.60  Tamil Nadu  \n",
       "4  10-11-2016  South   2355      0.26  918.45  Tamil Nadu  "
      ]
     },
     "execution_count": 189,
     "metadata": {},
     "output_type": "execute_result"
    }
   ],
   "source": [
    "# Displays the first 5 rows of the dataset\n",
    "grocery.head()"
   ]
  },
  {
   "cell_type": "code",
   "execution_count": 190,
   "id": "7aa2ac31",
   "metadata": {},
   "outputs": [
    {
     "data": {
      "text/plain": [
       "(9994, 11)"
      ]
     },
     "execution_count": 190,
     "metadata": {},
     "output_type": "execute_result"
    }
   ],
   "source": [
    "# Displays the number of rows and columns of the dataset\n",
    "grocery.shape"
   ]
  },
  {
   "cell_type": "code",
   "execution_count": 191,
   "id": "5bf75163",
   "metadata": {},
   "outputs": [
    {
     "name": "stdout",
     "output_type": "stream",
     "text": [
      "<class 'pandas.core.frame.DataFrame'>\n",
      "RangeIndex: 9994 entries, 0 to 9993\n",
      "Data columns (total 11 columns):\n",
      " #   Column         Non-Null Count  Dtype  \n",
      "---  ------         --------------  -----  \n",
      " 0   Order ID       9994 non-null   object \n",
      " 1   Customer Name  9994 non-null   object \n",
      " 2   Category       9994 non-null   object \n",
      " 3   Sub Category   9994 non-null   object \n",
      " 4   City           9994 non-null   object \n",
      " 5   Order Date     9994 non-null   object \n",
      " 6   Region         9994 non-null   object \n",
      " 7   Sales          9994 non-null   int64  \n",
      " 8   Discount       9994 non-null   float64\n",
      " 9   Profit         9994 non-null   float64\n",
      " 10  State          9994 non-null   object \n",
      "dtypes: float64(2), int64(1), object(8)\n",
      "memory usage: 859.0+ KB\n"
     ]
    }
   ],
   "source": [
    "# Prints information about the dataFrame\n",
    "grocery.info()"
   ]
  },
  {
   "cell_type": "code",
   "execution_count": 192,
   "id": "05324a4b",
   "metadata": {},
   "outputs": [
    {
     "data": {
      "text/html": [
       "<div>\n",
       "<style scoped>\n",
       "    .dataframe tbody tr th:only-of-type {\n",
       "        vertical-align: middle;\n",
       "    }\n",
       "\n",
       "    .dataframe tbody tr th {\n",
       "        vertical-align: top;\n",
       "    }\n",
       "\n",
       "    .dataframe thead th {\n",
       "        text-align: right;\n",
       "    }\n",
       "</style>\n",
       "<table border=\"1\" class=\"dataframe\">\n",
       "  <thead>\n",
       "    <tr style=\"text-align: right;\">\n",
       "      <th></th>\n",
       "      <th>Sales</th>\n",
       "      <th>Discount</th>\n",
       "      <th>Profit</th>\n",
       "    </tr>\n",
       "  </thead>\n",
       "  <tbody>\n",
       "    <tr>\n",
       "      <th>count</th>\n",
       "      <td>9994.000000</td>\n",
       "      <td>9994.000000</td>\n",
       "      <td>9994.000000</td>\n",
       "    </tr>\n",
       "    <tr>\n",
       "      <th>mean</th>\n",
       "      <td>1496.596158</td>\n",
       "      <td>0.226817</td>\n",
       "      <td>374.937082</td>\n",
       "    </tr>\n",
       "    <tr>\n",
       "      <th>std</th>\n",
       "      <td>577.559036</td>\n",
       "      <td>0.074636</td>\n",
       "      <td>239.932881</td>\n",
       "    </tr>\n",
       "    <tr>\n",
       "      <th>min</th>\n",
       "      <td>500.000000</td>\n",
       "      <td>0.100000</td>\n",
       "      <td>25.250000</td>\n",
       "    </tr>\n",
       "    <tr>\n",
       "      <th>25%</th>\n",
       "      <td>1000.000000</td>\n",
       "      <td>0.160000</td>\n",
       "      <td>180.022500</td>\n",
       "    </tr>\n",
       "    <tr>\n",
       "      <th>50%</th>\n",
       "      <td>1498.000000</td>\n",
       "      <td>0.230000</td>\n",
       "      <td>320.780000</td>\n",
       "    </tr>\n",
       "    <tr>\n",
       "      <th>75%</th>\n",
       "      <td>1994.750000</td>\n",
       "      <td>0.290000</td>\n",
       "      <td>525.627500</td>\n",
       "    </tr>\n",
       "    <tr>\n",
       "      <th>max</th>\n",
       "      <td>2500.000000</td>\n",
       "      <td>0.350000</td>\n",
       "      <td>1120.950000</td>\n",
       "    </tr>\n",
       "  </tbody>\n",
       "</table>\n",
       "</div>"
      ],
      "text/plain": [
       "             Sales     Discount       Profit\n",
       "count  9994.000000  9994.000000  9994.000000\n",
       "mean   1496.596158     0.226817   374.937082\n",
       "std     577.559036     0.074636   239.932881\n",
       "min     500.000000     0.100000    25.250000\n",
       "25%    1000.000000     0.160000   180.022500\n",
       "50%    1498.000000     0.230000   320.780000\n",
       "75%    1994.750000     0.290000   525.627500\n",
       "max    2500.000000     0.350000  1120.950000"
      ]
     },
     "execution_count": 192,
     "metadata": {},
     "output_type": "execute_result"
    }
   ],
   "source": [
    "# Computes a summary of statistics pertaining to the DataFrame columns\n",
    "grocery.describe()"
   ]
  },
  {
   "cell_type": "code",
   "execution_count": 193,
   "id": "d0a77b55",
   "metadata": {},
   "outputs": [
    {
     "data": {
      "text/plain": [
       "109934"
      ]
     },
     "execution_count": 193,
     "metadata": {},
     "output_type": "execute_result"
    }
   ],
   "source": [
    "# count the number of elements along a given axis\n",
    "grocery.size"
   ]
  },
  {
   "cell_type": "code",
   "execution_count": 194,
   "id": "b5b6de58",
   "metadata": {},
   "outputs": [
    {
     "data": {
      "text/plain": [
       "count    9994.000000\n",
       "mean     1496.596158\n",
       "std       577.559036\n",
       "min       500.000000\n",
       "25%      1000.000000\n",
       "50%      1498.000000\n",
       "75%      1994.750000\n",
       "max      2500.000000\n",
       "Name: Sales, dtype: float64"
      ]
     },
     "execution_count": 194,
     "metadata": {},
     "output_type": "execute_result"
    }
   ],
   "source": [
    "# Computes a summary of statistics pertaining to the Sales DataFrame columns\n",
    "grocery['Sales'].describe()"
   ]
  },
  {
   "cell_type": "code",
   "execution_count": 195,
   "id": "768f8170",
   "metadata": {},
   "outputs": [
    {
     "data": {
      "text/plain": [
       "749"
      ]
     },
     "execution_count": 195,
     "metadata": {},
     "output_type": "execute_result"
    }
   ],
   "source": [
    "# Displays the sales value of first record \n",
    "grocery.Sales[1]"
   ]
  },
  {
   "cell_type": "code",
   "execution_count": 20,
   "id": "6539be76",
   "metadata": {},
   "outputs": [
    {
     "data": {
      "text/plain": [
       "RangeIndex(start=0, stop=9994, step=1)"
      ]
     },
     "execution_count": 20,
     "metadata": {},
     "output_type": "execute_result"
    }
   ],
   "source": [
    "# Returns the position at the first occurrence of the specified value\n",
    "grocery.index"
   ]
  },
  {
   "cell_type": "code",
   "execution_count": 68,
   "id": "8359f2a7",
   "metadata": {},
   "outputs": [
    {
     "data": {
      "text/plain": [
       "Order ID                     OD5\n",
       "Customer Name            Ridhesh\n",
       "Category             Food Grains\n",
       "Sub Category     Organic Staples\n",
       "City                        Ooty\n",
       "Order Date            10-11-2016\n",
       "Region                     South\n",
       "Sales                       2355\n",
       "Discount                    0.26\n",
       "Profit                    918.45\n",
       "State                 Tamil Nadu\n",
       "Name: 4, dtype: object"
      ]
     },
     "execution_count": 68,
     "metadata": {},
     "output_type": "execute_result"
    }
   ],
   "source": [
    "# Access a group of rows and columns by label(s) or a boolean array\n",
    "grocery.loc[4]"
   ]
  },
  {
   "cell_type": "code",
   "execution_count": 67,
   "id": "fc348c53",
   "metadata": {},
   "outputs": [
    {
     "data": {
      "text/plain": [
       "Order ID                   OD2\n",
       "Customer Name            Sudha\n",
       "Category             Beverages\n",
       "Sub Category     Health Drinks\n",
       "City               Krishnagiri\n",
       "Order Date          11-08-2017\n",
       "Region                   South\n",
       "Sales                      749\n",
       "Discount                  0.18\n",
       "Profit                   149.8\n",
       "State               Tamil Nadu\n",
       "Name: 1, dtype: object"
      ]
     },
     "execution_count": 67,
     "metadata": {},
     "output_type": "execute_result"
    }
   ],
   "source": [
    "# Select a specific row or column from the data set\n",
    "grocery.iloc[1]"
   ]
  },
  {
   "cell_type": "code",
   "execution_count": 43,
   "id": "e1f6c868",
   "metadata": {},
   "outputs": [
    {
     "data": {
      "text/plain": [
       "0       False\n",
       "1        True\n",
       "2        True\n",
       "3        True\n",
       "4        True\n",
       "        ...  \n",
       "9989     True\n",
       "9990     True\n",
       "9991     True\n",
       "9992    False\n",
       "9993     True\n",
       "Name: Discount, Length: 9994, dtype: bool"
      ]
     },
     "execution_count": 43,
     "metadata": {},
     "output_type": "execute_result"
    }
   ],
   "source": [
    "# Displays the grocery discount greater than 15%\n",
    "grocery.Discount>0.15"
   ]
  },
  {
   "cell_type": "code",
   "execution_count": 49,
   "id": "f86b4e08",
   "metadata": {},
   "outputs": [
    {
     "data": {
      "text/plain": [
       "1496.5961576946167"
      ]
     },
     "execution_count": 49,
     "metadata": {},
     "output_type": "execute_result"
    }
   ],
   "source": [
    "# Calculates the mean of grocery sales\n",
    "grocery.Sales.mean()"
   ]
  },
  {
   "cell_type": "code",
   "execution_count": 58,
   "id": "ab2cb211",
   "metadata": {},
   "outputs": [
    {
     "data": {
      "text/html": [
       "<div>\n",
       "<style scoped>\n",
       "    .dataframe tbody tr th:only-of-type {\n",
       "        vertical-align: middle;\n",
       "    }\n",
       "\n",
       "    .dataframe tbody tr th {\n",
       "        vertical-align: top;\n",
       "    }\n",
       "\n",
       "    .dataframe thead th {\n",
       "        text-align: right;\n",
       "    }\n",
       "</style>\n",
       "<table border=\"1\" class=\"dataframe\">\n",
       "  <thead>\n",
       "    <tr style=\"text-align: right;\">\n",
       "      <th></th>\n",
       "      <th>Order ID</th>\n",
       "      <th>Customer Name</th>\n",
       "      <th>Category</th>\n",
       "      <th>Sub Category</th>\n",
       "      <th>City</th>\n",
       "      <th>Order Date</th>\n",
       "      <th>Region</th>\n",
       "      <th>Sales</th>\n",
       "      <th>Discount</th>\n",
       "      <th>Profit</th>\n",
       "      <th>State</th>\n",
       "    </tr>\n",
       "  </thead>\n",
       "  <tbody>\n",
       "    <tr>\n",
       "      <th>1</th>\n",
       "      <td>OD2</td>\n",
       "      <td>Sudha</td>\n",
       "      <td>Beverages</td>\n",
       "      <td>Health Drinks</td>\n",
       "      <td>Krishnagiri</td>\n",
       "      <td>11-08-2017</td>\n",
       "      <td>South</td>\n",
       "      <td>749</td>\n",
       "      <td>0.18</td>\n",
       "      <td>149.80</td>\n",
       "      <td>Tamil Nadu</td>\n",
       "    </tr>\n",
       "    <tr>\n",
       "      <th>2</th>\n",
       "      <td>OD3</td>\n",
       "      <td>Hussain</td>\n",
       "      <td>Food Grains</td>\n",
       "      <td>Atta &amp; Flour</td>\n",
       "      <td>Perambalur</td>\n",
       "      <td>06-12-2017</td>\n",
       "      <td>West</td>\n",
       "      <td>2360</td>\n",
       "      <td>0.21</td>\n",
       "      <td>165.20</td>\n",
       "      <td>Tamil Nadu</td>\n",
       "    </tr>\n",
       "    <tr>\n",
       "      <th>3</th>\n",
       "      <td>OD4</td>\n",
       "      <td>Jackson</td>\n",
       "      <td>Fruits &amp; Veggies</td>\n",
       "      <td>Fresh Vegetables</td>\n",
       "      <td>Dharmapuri</td>\n",
       "      <td>10-11-2016</td>\n",
       "      <td>South</td>\n",
       "      <td>896</td>\n",
       "      <td>0.25</td>\n",
       "      <td>89.60</td>\n",
       "      <td>Tamil Nadu</td>\n",
       "    </tr>\n",
       "    <tr>\n",
       "      <th>7</th>\n",
       "      <td>OD8</td>\n",
       "      <td>Hafiz</td>\n",
       "      <td>Fruits &amp; Veggies</td>\n",
       "      <td>Fresh Fruits</td>\n",
       "      <td>Ramanadhapuram</td>\n",
       "      <td>06-09-2015</td>\n",
       "      <td>West</td>\n",
       "      <td>1847</td>\n",
       "      <td>0.32</td>\n",
       "      <td>147.76</td>\n",
       "      <td>Tamil Nadu</td>\n",
       "    </tr>\n",
       "    <tr>\n",
       "      <th>8</th>\n",
       "      <td>OD9</td>\n",
       "      <td>Hafiz</td>\n",
       "      <td>Bakery</td>\n",
       "      <td>Biscuits</td>\n",
       "      <td>Tirunelveli</td>\n",
       "      <td>06-09-2015</td>\n",
       "      <td>West</td>\n",
       "      <td>791</td>\n",
       "      <td>0.23</td>\n",
       "      <td>181.93</td>\n",
       "      <td>Tamil Nadu</td>\n",
       "    </tr>\n",
       "    <tr>\n",
       "      <th>...</th>\n",
       "      <td>...</td>\n",
       "      <td>...</td>\n",
       "      <td>...</td>\n",
       "      <td>...</td>\n",
       "      <td>...</td>\n",
       "      <td>...</td>\n",
       "      <td>...</td>\n",
       "      <td>...</td>\n",
       "      <td>...</td>\n",
       "      <td>...</td>\n",
       "      <td>...</td>\n",
       "    </tr>\n",
       "    <tr>\n",
       "      <th>9984</th>\n",
       "      <td>OD9985</td>\n",
       "      <td>Willams</td>\n",
       "      <td>Oil &amp; Masala</td>\n",
       "      <td>Masalas</td>\n",
       "      <td>Trichy</td>\n",
       "      <td>8/31/2016</td>\n",
       "      <td>West</td>\n",
       "      <td>727</td>\n",
       "      <td>0.17</td>\n",
       "      <td>109.05</td>\n",
       "      <td>Tamil Nadu</td>\n",
       "    </tr>\n",
       "    <tr>\n",
       "      <th>9986</th>\n",
       "      <td>OD9987</td>\n",
       "      <td>Peer</td>\n",
       "      <td>Bakery</td>\n",
       "      <td>Biscuits</td>\n",
       "      <td>Vellore</td>\n",
       "      <td>05-08-2018</td>\n",
       "      <td>West</td>\n",
       "      <td>2199</td>\n",
       "      <td>0.34</td>\n",
       "      <td>153.93</td>\n",
       "      <td>Tamil Nadu</td>\n",
       "    </tr>\n",
       "    <tr>\n",
       "      <th>9987</th>\n",
       "      <td>OD9988</td>\n",
       "      <td>Ganesh</td>\n",
       "      <td>Fruits &amp; Veggies</td>\n",
       "      <td>Fresh Vegetables</td>\n",
       "      <td>Theni</td>\n",
       "      <td>10/19/2015</td>\n",
       "      <td>West</td>\n",
       "      <td>1350</td>\n",
       "      <td>0.15</td>\n",
       "      <td>67.50</td>\n",
       "      <td>Tamil Nadu</td>\n",
       "    </tr>\n",
       "    <tr>\n",
       "      <th>9990</th>\n",
       "      <td>OD9991</td>\n",
       "      <td>Alan</td>\n",
       "      <td>Bakery</td>\n",
       "      <td>Biscuits</td>\n",
       "      <td>Kanyakumari</td>\n",
       "      <td>07-12-2015</td>\n",
       "      <td>West</td>\n",
       "      <td>1195</td>\n",
       "      <td>0.26</td>\n",
       "      <td>71.70</td>\n",
       "      <td>Tamil Nadu</td>\n",
       "    </tr>\n",
       "    <tr>\n",
       "      <th>9993</th>\n",
       "      <td>OD9994</td>\n",
       "      <td>Ganesh</td>\n",
       "      <td>Food Grains</td>\n",
       "      <td>Atta &amp; Flour</td>\n",
       "      <td>Tirunelveli</td>\n",
       "      <td>4/17/2018</td>\n",
       "      <td>West</td>\n",
       "      <td>1034</td>\n",
       "      <td>0.28</td>\n",
       "      <td>165.44</td>\n",
       "      <td>Tamil Nadu</td>\n",
       "    </tr>\n",
       "  </tbody>\n",
       "</table>\n",
       "<p>3003 rows × 11 columns</p>\n",
       "</div>"
      ],
      "text/plain": [
       "     Order ID Customer Name          Category      Sub Category  \\\n",
       "1         OD2         Sudha         Beverages     Health Drinks   \n",
       "2         OD3       Hussain       Food Grains      Atta & Flour   \n",
       "3         OD4       Jackson  Fruits & Veggies  Fresh Vegetables   \n",
       "7         OD8         Hafiz  Fruits & Veggies      Fresh Fruits   \n",
       "8         OD9         Hafiz            Bakery          Biscuits   \n",
       "...       ...           ...               ...               ...   \n",
       "9984   OD9985       Willams      Oil & Masala           Masalas   \n",
       "9986   OD9987          Peer            Bakery          Biscuits   \n",
       "9987   OD9988        Ganesh  Fruits & Veggies  Fresh Vegetables   \n",
       "9990   OD9991          Alan            Bakery          Biscuits   \n",
       "9993   OD9994        Ganesh       Food Grains      Atta & Flour   \n",
       "\n",
       "                City  Order Date Region  Sales  Discount  Profit       State  \n",
       "1        Krishnagiri  11-08-2017  South    749      0.18  149.80  Tamil Nadu  \n",
       "2         Perambalur  06-12-2017   West   2360      0.21  165.20  Tamil Nadu  \n",
       "3         Dharmapuri  10-11-2016  South    896      0.25   89.60  Tamil Nadu  \n",
       "7     Ramanadhapuram  06-09-2015   West   1847      0.32  147.76  Tamil Nadu  \n",
       "8        Tirunelveli  06-09-2015   West    791      0.23  181.93  Tamil Nadu  \n",
       "...              ...         ...    ...    ...       ...     ...         ...  \n",
       "9984          Trichy   8/31/2016   West    727      0.17  109.05  Tamil Nadu  \n",
       "9986         Vellore  05-08-2018   West   2199      0.34  153.93  Tamil Nadu  \n",
       "9987           Theni  10/19/2015   West   1350      0.15   67.50  Tamil Nadu  \n",
       "9990     Kanyakumari  07-12-2015   West   1195      0.26   71.70  Tamil Nadu  \n",
       "9993     Tirunelveli   4/17/2018   West   1034      0.28  165.44  Tamil Nadu  \n",
       "\n",
       "[3003 rows x 11 columns]"
      ]
     },
     "execution_count": 58,
     "metadata": {},
     "output_type": "execute_result"
    }
   ],
   "source": [
    "#Displays the grocery profit based on the below condition\n",
    "grocery[(grocery.Profit>1000.45)|(grocery.Profit<200.15)]"
   ]
  },
  {
   "cell_type": "code",
   "execution_count": 315,
   "id": "d30a6745",
   "metadata": {},
   "outputs": [
    {
     "data": {
      "text/html": [
       "<div>\n",
       "<style scoped>\n",
       "    .dataframe tbody tr th:only-of-type {\n",
       "        vertical-align: middle;\n",
       "    }\n",
       "\n",
       "    .dataframe tbody tr th {\n",
       "        vertical-align: top;\n",
       "    }\n",
       "\n",
       "    .dataframe thead th {\n",
       "        text-align: right;\n",
       "    }\n",
       "</style>\n",
       "<table border=\"1\" class=\"dataframe\">\n",
       "  <thead>\n",
       "    <tr style=\"text-align: right;\">\n",
       "      <th></th>\n",
       "      <th>Order ID</th>\n",
       "      <th>Customer Name</th>\n",
       "      <th>Category</th>\n",
       "      <th>Sub Category</th>\n",
       "      <th>City</th>\n",
       "      <th>Order Date</th>\n",
       "      <th>Region</th>\n",
       "      <th>Sales</th>\n",
       "      <th>Discount</th>\n",
       "      <th>Profit</th>\n",
       "      <th>State</th>\n",
       "    </tr>\n",
       "  </thead>\n",
       "  <tbody>\n",
       "    <tr>\n",
       "      <th>1</th>\n",
       "      <td>OD2</td>\n",
       "      <td>Sudha</td>\n",
       "      <td>Beverages</td>\n",
       "      <td>Health Drinks</td>\n",
       "      <td>Krishnagiri</td>\n",
       "      <td>11-08-2017</td>\n",
       "      <td>South</td>\n",
       "      <td>749.0</td>\n",
       "      <td>0.18</td>\n",
       "      <td>149.80</td>\n",
       "      <td>Tamil Nadu</td>\n",
       "    </tr>\n",
       "    <tr>\n",
       "      <th>2</th>\n",
       "      <td>OD3</td>\n",
       "      <td>Hussain</td>\n",
       "      <td>Food Grains</td>\n",
       "      <td>Atta &amp; Flour</td>\n",
       "      <td>Perambalur</td>\n",
       "      <td>06-12-2017</td>\n",
       "      <td>West</td>\n",
       "      <td>2360.0</td>\n",
       "      <td>0.21</td>\n",
       "      <td>165.20</td>\n",
       "      <td>Tamil Nadu</td>\n",
       "    </tr>\n",
       "    <tr>\n",
       "      <th>7</th>\n",
       "      <td>OD8</td>\n",
       "      <td>Hafiz</td>\n",
       "      <td>Fruits &amp; Veggies</td>\n",
       "      <td>Fresh Fruits</td>\n",
       "      <td>Ramanadhapuram</td>\n",
       "      <td>06-09-2015</td>\n",
       "      <td>West</td>\n",
       "      <td>1847.0</td>\n",
       "      <td>0.32</td>\n",
       "      <td>147.76</td>\n",
       "      <td>Tamil Nadu</td>\n",
       "    </tr>\n",
       "    <tr>\n",
       "      <th>8</th>\n",
       "      <td>OD9</td>\n",
       "      <td>Hafiz</td>\n",
       "      <td>Bakery</td>\n",
       "      <td>Biscuits</td>\n",
       "      <td>Tirunelveli</td>\n",
       "      <td>06-09-2015</td>\n",
       "      <td>West</td>\n",
       "      <td>791.0</td>\n",
       "      <td>0.23</td>\n",
       "      <td>181.93</td>\n",
       "      <td>Tamil Nadu</td>\n",
       "    </tr>\n",
       "    <tr>\n",
       "      <th>15</th>\n",
       "      <td>OD16</td>\n",
       "      <td>Ramesh</td>\n",
       "      <td>Oil &amp; Masala</td>\n",
       "      <td>Edible Oil &amp; Ghee</td>\n",
       "      <td>Krishnagiri</td>\n",
       "      <td>11-22-2016</td>\n",
       "      <td>Central</td>\n",
       "      <td>1440.0</td>\n",
       "      <td>0.11</td>\n",
       "      <td>100.80</td>\n",
       "      <td>Tamil Nadu</td>\n",
       "    </tr>\n",
       "    <tr>\n",
       "      <th>...</th>\n",
       "      <td>...</td>\n",
       "      <td>...</td>\n",
       "      <td>...</td>\n",
       "      <td>...</td>\n",
       "      <td>...</td>\n",
       "      <td>...</td>\n",
       "      <td>...</td>\n",
       "      <td>...</td>\n",
       "      <td>...</td>\n",
       "      <td>...</td>\n",
       "      <td>...</td>\n",
       "    </tr>\n",
       "    <tr>\n",
       "      <th>9969</th>\n",
       "      <td>OD9970</td>\n",
       "      <td>Yusuf</td>\n",
       "      <td>Bakery</td>\n",
       "      <td>Breads &amp; Buns</td>\n",
       "      <td>Salem</td>\n",
       "      <td>08-09-2015</td>\n",
       "      <td>West</td>\n",
       "      <td>784.0</td>\n",
       "      <td>0.20</td>\n",
       "      <td>164.64</td>\n",
       "      <td>Tamil Nadu</td>\n",
       "    </tr>\n",
       "    <tr>\n",
       "      <th>9982</th>\n",
       "      <td>OD9983</td>\n",
       "      <td>Veronica</td>\n",
       "      <td>Fruits &amp; Veggies</td>\n",
       "      <td>Organic Vegetables</td>\n",
       "      <td>Tenkasi</td>\n",
       "      <td>8-28-2018</td>\n",
       "      <td>West</td>\n",
       "      <td>1309.0</td>\n",
       "      <td>0.33</td>\n",
       "      <td>183.26</td>\n",
       "      <td>Tamil Nadu</td>\n",
       "    </tr>\n",
       "    <tr>\n",
       "      <th>9984</th>\n",
       "      <td>OD9985</td>\n",
       "      <td>Willams</td>\n",
       "      <td>Oil &amp; Masala</td>\n",
       "      <td>Masalas</td>\n",
       "      <td>Trichy</td>\n",
       "      <td>8-31-2016</td>\n",
       "      <td>West</td>\n",
       "      <td>727.0</td>\n",
       "      <td>0.17</td>\n",
       "      <td>109.05</td>\n",
       "      <td>Tamil Nadu</td>\n",
       "    </tr>\n",
       "    <tr>\n",
       "      <th>9986</th>\n",
       "      <td>OD9987</td>\n",
       "      <td>Peer</td>\n",
       "      <td>Bakery</td>\n",
       "      <td>Biscuits</td>\n",
       "      <td>Vellore</td>\n",
       "      <td>05-08-2018</td>\n",
       "      <td>West</td>\n",
       "      <td>2199.0</td>\n",
       "      <td>0.34</td>\n",
       "      <td>153.93</td>\n",
       "      <td>Tamil Nadu</td>\n",
       "    </tr>\n",
       "    <tr>\n",
       "      <th>9993</th>\n",
       "      <td>OD9994</td>\n",
       "      <td>Ganesh</td>\n",
       "      <td>Food Grains</td>\n",
       "      <td>Atta &amp; Flour</td>\n",
       "      <td>Tirunelveli</td>\n",
       "      <td>4-17-2018</td>\n",
       "      <td>West</td>\n",
       "      <td>1034.0</td>\n",
       "      <td>0.28</td>\n",
       "      <td>165.44</td>\n",
       "      <td>Tamil Nadu</td>\n",
       "    </tr>\n",
       "  </tbody>\n",
       "</table>\n",
       "<p>2013 rows × 11 columns</p>\n",
       "</div>"
      ],
      "text/plain": [
       "     Order ID Customer Name          Category        Sub Category  \\\n",
       "1         OD2         Sudha         Beverages       Health Drinks   \n",
       "2         OD3       Hussain       Food Grains        Atta & Flour   \n",
       "7         OD8         Hafiz  Fruits & Veggies        Fresh Fruits   \n",
       "8         OD9         Hafiz            Bakery            Biscuits   \n",
       "15       OD16        Ramesh      Oil & Masala   Edible Oil & Ghee   \n",
       "...       ...           ...               ...                 ...   \n",
       "9969   OD9970         Yusuf            Bakery       Breads & Buns   \n",
       "9982   OD9983      Veronica  Fruits & Veggies  Organic Vegetables   \n",
       "9984   OD9985       Willams      Oil & Masala             Masalas   \n",
       "9986   OD9987          Peer            Bakery            Biscuits   \n",
       "9993   OD9994        Ganesh       Food Grains        Atta & Flour   \n",
       "\n",
       "                City  Order Date   Region   Sales  Discount  Profit  \\\n",
       "1        Krishnagiri  11-08-2017    South   749.0      0.18  149.80   \n",
       "2         Perambalur  06-12-2017     West  2360.0      0.21  165.20   \n",
       "7     Ramanadhapuram  06-09-2015     West  1847.0      0.32  147.76   \n",
       "8        Tirunelveli  06-09-2015     West   791.0      0.23  181.93   \n",
       "15       Krishnagiri  11-22-2016  Central  1440.0      0.11  100.80   \n",
       "...              ...         ...      ...     ...       ...     ...   \n",
       "9969           Salem  08-09-2015     West   784.0      0.20  164.64   \n",
       "9982         Tenkasi   8-28-2018     West  1309.0      0.33  183.26   \n",
       "9984          Trichy   8-31-2016     West   727.0      0.17  109.05   \n",
       "9986         Vellore  05-08-2018     West  2199.0      0.34  153.93   \n",
       "9993     Tirunelveli   4-17-2018     West  1034.0      0.28  165.44   \n",
       "\n",
       "           State  \n",
       "1     Tamil Nadu  \n",
       "2     Tamil Nadu  \n",
       "7     Tamil Nadu  \n",
       "8     Tamil Nadu  \n",
       "15    Tamil Nadu  \n",
       "...          ...  \n",
       "9969  Tamil Nadu  \n",
       "9982  Tamil Nadu  \n",
       "9984  Tamil Nadu  \n",
       "9986  Tamil Nadu  \n",
       "9993  Tamil Nadu  \n",
       "\n",
       "[2013 rows x 11 columns]"
      ]
     },
     "execution_count": 315,
     "metadata": {},
     "output_type": "execute_result"
    }
   ],
   "source": [
    "#Displays the grocery profit based on the below condition\n",
    "grocery[(grocery.Profit>100.45)&(grocery.Profit<200.15)]"
   ]
  },
  {
   "cell_type": "code",
   "execution_count": 63,
   "id": "3d0aa8e7",
   "metadata": {},
   "outputs": [
    {
     "data": {
      "text/plain": [
       "Index(['Order ID', 'Customer Name', 'Category', 'Sub Category', 'City',\n",
       "       'Order Date', 'Region', 'Sales', 'Discount', 'Profit', 'State'],\n",
       "      dtype='object')"
      ]
     },
     "execution_count": 63,
     "metadata": {},
     "output_type": "execute_result"
    }
   ],
   "source": [
    "# Displays the list of all columns\n",
    "grocery.columns"
   ]
  },
  {
   "cell_type": "code",
   "execution_count": 69,
   "id": "2f769cfd",
   "metadata": {},
   "outputs": [
    {
     "data": {
      "text/plain": [
       "0        Harish\n",
       "1         Sudha\n",
       "2       Hussain\n",
       "3       Jackson\n",
       "4       Ridhesh\n",
       "         ...   \n",
       "9989     Sudeep\n",
       "9990       Alan\n",
       "9991       Ravi\n",
       "9992       Peer\n",
       "9993     Ganesh\n",
       "Name: Customer Name, Length: 9994, dtype: object"
      ]
     },
     "execution_count": 69,
     "metadata": {},
     "output_type": "execute_result"
    }
   ],
   "source": [
    "# Displays the customer name column from the dataset\n",
    "grocery['Customer Name']"
   ]
  },
  {
   "cell_type": "code",
   "execution_count": 70,
   "id": "918e4384",
   "metadata": {},
   "outputs": [
    {
     "data": {
      "text/html": [
       "<div>\n",
       "<style scoped>\n",
       "    .dataframe tbody tr th:only-of-type {\n",
       "        vertical-align: middle;\n",
       "    }\n",
       "\n",
       "    .dataframe tbody tr th {\n",
       "        vertical-align: top;\n",
       "    }\n",
       "\n",
       "    .dataframe thead th {\n",
       "        text-align: right;\n",
       "    }\n",
       "</style>\n",
       "<table border=\"1\" class=\"dataframe\">\n",
       "  <thead>\n",
       "    <tr style=\"text-align: right;\">\n",
       "      <th></th>\n",
       "      <th>Order ID</th>\n",
       "      <th>Customer Name</th>\n",
       "      <th>Category</th>\n",
       "      <th>Sub Category</th>\n",
       "      <th>City</th>\n",
       "      <th>Order Date</th>\n",
       "      <th>Region</th>\n",
       "      <th>Sales</th>\n",
       "      <th>Discount</th>\n",
       "      <th>Profit</th>\n",
       "      <th>State</th>\n",
       "    </tr>\n",
       "  </thead>\n",
       "  <tbody>\n",
       "    <tr>\n",
       "      <th>5</th>\n",
       "      <td>OD6</td>\n",
       "      <td>Adavan</td>\n",
       "      <td>Food Grains</td>\n",
       "      <td>Organic Staples</td>\n",
       "      <td>Dharmapuri</td>\n",
       "      <td>06-09-2015</td>\n",
       "      <td>West</td>\n",
       "      <td>2305</td>\n",
       "      <td>0.26</td>\n",
       "      <td>322.70</td>\n",
       "      <td>Tamil Nadu</td>\n",
       "    </tr>\n",
       "    <tr>\n",
       "      <th>6</th>\n",
       "      <td>OD7</td>\n",
       "      <td>Jonas</td>\n",
       "      <td>Fruits &amp; Veggies</td>\n",
       "      <td>Fresh Vegetables</td>\n",
       "      <td>Trichy</td>\n",
       "      <td>06-09-2015</td>\n",
       "      <td>West</td>\n",
       "      <td>826</td>\n",
       "      <td>0.33</td>\n",
       "      <td>346.92</td>\n",
       "      <td>Tamil Nadu</td>\n",
       "    </tr>\n",
       "    <tr>\n",
       "      <th>7</th>\n",
       "      <td>OD8</td>\n",
       "      <td>Hafiz</td>\n",
       "      <td>Fruits &amp; Veggies</td>\n",
       "      <td>Fresh Fruits</td>\n",
       "      <td>Ramanadhapuram</td>\n",
       "      <td>06-09-2015</td>\n",
       "      <td>West</td>\n",
       "      <td>1847</td>\n",
       "      <td>0.32</td>\n",
       "      <td>147.76</td>\n",
       "      <td>Tamil Nadu</td>\n",
       "    </tr>\n",
       "    <tr>\n",
       "      <th>8</th>\n",
       "      <td>OD9</td>\n",
       "      <td>Hafiz</td>\n",
       "      <td>Bakery</td>\n",
       "      <td>Biscuits</td>\n",
       "      <td>Tirunelveli</td>\n",
       "      <td>06-09-2015</td>\n",
       "      <td>West</td>\n",
       "      <td>791</td>\n",
       "      <td>0.23</td>\n",
       "      <td>181.93</td>\n",
       "      <td>Tamil Nadu</td>\n",
       "    </tr>\n",
       "    <tr>\n",
       "      <th>9</th>\n",
       "      <td>OD10</td>\n",
       "      <td>Krithika</td>\n",
       "      <td>Bakery</td>\n",
       "      <td>Cakes</td>\n",
       "      <td>Chennai</td>\n",
       "      <td>06-09-2015</td>\n",
       "      <td>West</td>\n",
       "      <td>1795</td>\n",
       "      <td>0.27</td>\n",
       "      <td>484.65</td>\n",
       "      <td>Tamil Nadu</td>\n",
       "    </tr>\n",
       "    <tr>\n",
       "      <th>10</th>\n",
       "      <td>OD11</td>\n",
       "      <td>Ganesh</td>\n",
       "      <td>Snacks</td>\n",
       "      <td>Chocolates</td>\n",
       "      <td>Karur</td>\n",
       "      <td>06-09-2015</td>\n",
       "      <td>West</td>\n",
       "      <td>1903</td>\n",
       "      <td>0.13</td>\n",
       "      <td>437.69</td>\n",
       "      <td>Tamil Nadu</td>\n",
       "    </tr>\n",
       "    <tr>\n",
       "      <th>11</th>\n",
       "      <td>OD12</td>\n",
       "      <td>Yadav</td>\n",
       "      <td>Eggs, Meat &amp; Fish</td>\n",
       "      <td>Eggs</td>\n",
       "      <td>Namakkal</td>\n",
       "      <td>06-09-2015</td>\n",
       "      <td>West</td>\n",
       "      <td>701</td>\n",
       "      <td>0.10</td>\n",
       "      <td>308.44</td>\n",
       "      <td>Tamil Nadu</td>\n",
       "    </tr>\n",
       "    <tr>\n",
       "      <th>12</th>\n",
       "      <td>OD13</td>\n",
       "      <td>Sharon</td>\n",
       "      <td>Snacks</td>\n",
       "      <td>Cookies</td>\n",
       "      <td>Dindigul</td>\n",
       "      <td>4/15/2018</td>\n",
       "      <td>South</td>\n",
       "      <td>1659</td>\n",
       "      <td>0.19</td>\n",
       "      <td>315.21</td>\n",
       "      <td>Tamil Nadu</td>\n",
       "    </tr>\n",
       "    <tr>\n",
       "      <th>13</th>\n",
       "      <td>OD14</td>\n",
       "      <td>Peer</td>\n",
       "      <td>Fruits &amp; Veggies</td>\n",
       "      <td>Fresh Vegetables</td>\n",
       "      <td>Kanyakumari</td>\n",
       "      <td>12-05-2017</td>\n",
       "      <td>West</td>\n",
       "      <td>1277</td>\n",
       "      <td>0.25</td>\n",
       "      <td>63.85</td>\n",
       "      <td>Tamil Nadu</td>\n",
       "    </tr>\n",
       "    <tr>\n",
       "      <th>14</th>\n",
       "      <td>OD15</td>\n",
       "      <td>Sundar</td>\n",
       "      <td>Eggs, Meat &amp; Fish</td>\n",
       "      <td>Chicken</td>\n",
       "      <td>Kanyakumari</td>\n",
       "      <td>11/22/2016</td>\n",
       "      <td>Central</td>\n",
       "      <td>831</td>\n",
       "      <td>0.22</td>\n",
       "      <td>207.75</td>\n",
       "      <td>Tamil Nadu</td>\n",
       "    </tr>\n",
       "    <tr>\n",
       "      <th>15</th>\n",
       "      <td>OD16</td>\n",
       "      <td>Ramesh</td>\n",
       "      <td>Oil &amp; Masala</td>\n",
       "      <td>Edible Oil &amp; Ghee</td>\n",
       "      <td>Krishnagiri</td>\n",
       "      <td>11/22/2016</td>\n",
       "      <td>Central</td>\n",
       "      <td>1440</td>\n",
       "      <td>0.11</td>\n",
       "      <td>100.80</td>\n",
       "      <td>Tamil Nadu</td>\n",
       "    </tr>\n",
       "    <tr>\n",
       "      <th>16</th>\n",
       "      <td>OD17</td>\n",
       "      <td>Alan</td>\n",
       "      <td>Bakery</td>\n",
       "      <td>Cakes</td>\n",
       "      <td>Dharmapuri</td>\n",
       "      <td>11-11-2015</td>\n",
       "      <td>Central</td>\n",
       "      <td>1678</td>\n",
       "      <td>0.28</td>\n",
       "      <td>318.82</td>\n",
       "      <td>Tamil Nadu</td>\n",
       "    </tr>\n",
       "    <tr>\n",
       "      <th>17</th>\n",
       "      <td>OD18</td>\n",
       "      <td>Arutra</td>\n",
       "      <td>Beverages</td>\n",
       "      <td>Health Drinks</td>\n",
       "      <td>Bodi</td>\n",
       "      <td>5/13/2015</td>\n",
       "      <td>West</td>\n",
       "      <td>1617</td>\n",
       "      <td>0.19</td>\n",
       "      <td>113.19</td>\n",
       "      <td>Tamil Nadu</td>\n",
       "    </tr>\n",
       "    <tr>\n",
       "      <th>18</th>\n",
       "      <td>OD19</td>\n",
       "      <td>Haseena</td>\n",
       "      <td>Eggs, Meat &amp; Fish</td>\n",
       "      <td>Mutton</td>\n",
       "      <td>Tenkasi</td>\n",
       "      <td>8/27/2015</td>\n",
       "      <td>West</td>\n",
       "      <td>1757</td>\n",
       "      <td>0.35</td>\n",
       "      <td>386.54</td>\n",
       "      <td>Tamil Nadu</td>\n",
       "    </tr>\n",
       "    <tr>\n",
       "      <th>19</th>\n",
       "      <td>OD20</td>\n",
       "      <td>Verma</td>\n",
       "      <td>Beverages</td>\n",
       "      <td>Soft Drinks</td>\n",
       "      <td>Kanyakumari</td>\n",
       "      <td>8/27/2015</td>\n",
       "      <td>West</td>\n",
       "      <td>692</td>\n",
       "      <td>0.29</td>\n",
       "      <td>159.16</td>\n",
       "      <td>Tamil Nadu</td>\n",
       "    </tr>\n",
       "    <tr>\n",
       "      <th>20</th>\n",
       "      <td>OD21</td>\n",
       "      <td>Hafiz</td>\n",
       "      <td>Beverages</td>\n",
       "      <td>Health Drinks</td>\n",
       "      <td>Vellore</td>\n",
       "      <td>8/27/2015</td>\n",
       "      <td>West</td>\n",
       "      <td>522</td>\n",
       "      <td>0.19</td>\n",
       "      <td>208.80</td>\n",
       "      <td>Tamil Nadu</td>\n",
       "    </tr>\n",
       "  </tbody>\n",
       "</table>\n",
       "</div>"
      ],
      "text/plain": [
       "   Order ID Customer Name           Category       Sub Category  \\\n",
       "5       OD6        Adavan        Food Grains    Organic Staples   \n",
       "6       OD7         Jonas   Fruits & Veggies   Fresh Vegetables   \n",
       "7       OD8         Hafiz   Fruits & Veggies       Fresh Fruits   \n",
       "8       OD9         Hafiz             Bakery           Biscuits   \n",
       "9      OD10      Krithika             Bakery              Cakes   \n",
       "10     OD11        Ganesh             Snacks         Chocolates   \n",
       "11     OD12         Yadav  Eggs, Meat & Fish               Eggs   \n",
       "12     OD13        Sharon             Snacks            Cookies   \n",
       "13     OD14          Peer   Fruits & Veggies   Fresh Vegetables   \n",
       "14     OD15        Sundar  Eggs, Meat & Fish            Chicken   \n",
       "15     OD16        Ramesh       Oil & Masala  Edible Oil & Ghee   \n",
       "16     OD17          Alan             Bakery              Cakes   \n",
       "17     OD18        Arutra          Beverages      Health Drinks   \n",
       "18     OD19       Haseena  Eggs, Meat & Fish             Mutton   \n",
       "19     OD20         Verma          Beverages        Soft Drinks   \n",
       "20     OD21         Hafiz          Beverages      Health Drinks   \n",
       "\n",
       "              City  Order Date   Region  Sales  Discount  Profit       State  \n",
       "5       Dharmapuri  06-09-2015     West   2305      0.26  322.70  Tamil Nadu  \n",
       "6           Trichy  06-09-2015     West    826      0.33  346.92  Tamil Nadu  \n",
       "7   Ramanadhapuram  06-09-2015     West   1847      0.32  147.76  Tamil Nadu  \n",
       "8      Tirunelveli  06-09-2015     West    791      0.23  181.93  Tamil Nadu  \n",
       "9          Chennai  06-09-2015     West   1795      0.27  484.65  Tamil Nadu  \n",
       "10           Karur  06-09-2015     West   1903      0.13  437.69  Tamil Nadu  \n",
       "11        Namakkal  06-09-2015     West    701      0.10  308.44  Tamil Nadu  \n",
       "12        Dindigul   4/15/2018    South   1659      0.19  315.21  Tamil Nadu  \n",
       "13     Kanyakumari  12-05-2017     West   1277      0.25   63.85  Tamil Nadu  \n",
       "14     Kanyakumari  11/22/2016  Central    831      0.22  207.75  Tamil Nadu  \n",
       "15     Krishnagiri  11/22/2016  Central   1440      0.11  100.80  Tamil Nadu  \n",
       "16      Dharmapuri  11-11-2015  Central   1678      0.28  318.82  Tamil Nadu  \n",
       "17            Bodi   5/13/2015     West   1617      0.19  113.19  Tamil Nadu  \n",
       "18         Tenkasi   8/27/2015     West   1757      0.35  386.54  Tamil Nadu  \n",
       "19     Kanyakumari   8/27/2015     West    692      0.29  159.16  Tamil Nadu  \n",
       "20         Vellore   8/27/2015     West    522      0.19  208.80  Tamil Nadu  "
      ]
     },
     "execution_count": 70,
     "metadata": {},
     "output_type": "execute_result"
    }
   ],
   "source": [
    "# Displays records between 5 to 20 from the dataset\n",
    "grocery.loc[5:20]"
   ]
  },
  {
   "cell_type": "code",
   "execution_count": 72,
   "id": "3125a4ea",
   "metadata": {},
   "outputs": [
    {
     "data": {
      "text/plain": [
       "5         Dharmapuri\n",
       "6             Trichy\n",
       "7     Ramanadhapuram\n",
       "8        Tirunelveli\n",
       "9            Chennai\n",
       "10             Karur\n",
       "11          Namakkal\n",
       "12          Dindigul\n",
       "13       Kanyakumari\n",
       "14       Kanyakumari\n",
       "15       Krishnagiri\n",
       "16        Dharmapuri\n",
       "17              Bodi\n",
       "18           Tenkasi\n",
       "19       Kanyakumari\n",
       "20           Vellore\n",
       "21             Karur\n",
       "22       Krishnagiri\n",
       "23           Tenkasi\n",
       "24              Ooty\n",
       "25       Tirunelveli\n",
       "26            Trichy\n",
       "27        Viluppuram\n",
       "28       Krishnagiri\n",
       "29       Kanyakumari\n",
       "30        Dharmapuri\n",
       "31           Vellore\n",
       "32            Trichy\n",
       "33           Madurai\n",
       "34           Vellore\n",
       "35       Tirunelveli\n",
       "36             Salem\n",
       "37    Ramanadhapuram\n",
       "38           Chennai\n",
       "39            Cumbum\n",
       "40          Namakkal\n",
       "Name: City, dtype: object"
      ]
     },
     "execution_count": 72,
     "metadata": {},
     "output_type": "execute_result"
    }
   ],
   "source": [
    "# Displays the list of all cities between 5 to 20 from the dataset\n",
    "grocery.loc[5:40,'City']"
   ]
  },
  {
   "cell_type": "code",
   "execution_count": 8,
   "id": "42e75ed6",
   "metadata": {},
   "outputs": [
    {
     "data": {
      "text/html": [
       "<div>\n",
       "<style scoped>\n",
       "    .dataframe tbody tr th:only-of-type {\n",
       "        vertical-align: middle;\n",
       "    }\n",
       "\n",
       "    .dataframe tbody tr th {\n",
       "        vertical-align: top;\n",
       "    }\n",
       "\n",
       "    .dataframe thead th {\n",
       "        text-align: right;\n",
       "    }\n",
       "</style>\n",
       "<table border=\"1\" class=\"dataframe\">\n",
       "  <thead>\n",
       "    <tr style=\"text-align: right;\">\n",
       "      <th></th>\n",
       "      <th>Order ID</th>\n",
       "      <th>Customer Name</th>\n",
       "      <th>Category</th>\n",
       "      <th>Sub Category</th>\n",
       "      <th>City</th>\n",
       "      <th>Order Date</th>\n",
       "      <th>Region</th>\n",
       "      <th>Sales</th>\n",
       "      <th>Discount</th>\n",
       "      <th>Profit</th>\n",
       "      <th>State</th>\n",
       "    </tr>\n",
       "  </thead>\n",
       "  <tbody>\n",
       "    <tr>\n",
       "      <th>0</th>\n",
       "      <td>OD1</td>\n",
       "      <td>Harish</td>\n",
       "      <td>Oil &amp; Masala</td>\n",
       "      <td>Masalas</td>\n",
       "      <td>Vellore</td>\n",
       "      <td>11-08-2017</td>\n",
       "      <td>North</td>\n",
       "      <td>1254</td>\n",
       "      <td>0.12</td>\n",
       "      <td>401.28</td>\n",
       "      <td>Tamil Nadu</td>\n",
       "    </tr>\n",
       "    <tr>\n",
       "      <th>1</th>\n",
       "      <td>OD2</td>\n",
       "      <td>Sudha</td>\n",
       "      <td>Beverages</td>\n",
       "      <td>Health Drinks</td>\n",
       "      <td>Krishnagiri</td>\n",
       "      <td>11-08-2017</td>\n",
       "      <td>South</td>\n",
       "      <td>749</td>\n",
       "      <td>0.18</td>\n",
       "      <td>149.80</td>\n",
       "      <td>Tamil Nadu</td>\n",
       "    </tr>\n",
       "    <tr>\n",
       "      <th>4</th>\n",
       "      <td>OD5</td>\n",
       "      <td>Ridhesh</td>\n",
       "      <td>Food Grains</td>\n",
       "      <td>Organic Staples</td>\n",
       "      <td>Ooty</td>\n",
       "      <td>10-11-2016</td>\n",
       "      <td>South</td>\n",
       "      <td>2355</td>\n",
       "      <td>0.26</td>\n",
       "      <td>918.45</td>\n",
       "      <td>Tamil Nadu</td>\n",
       "    </tr>\n",
       "    <tr>\n",
       "      <th>5</th>\n",
       "      <td>OD6</td>\n",
       "      <td>Adavan</td>\n",
       "      <td>Food Grains</td>\n",
       "      <td>Organic Staples</td>\n",
       "      <td>Dharmapuri</td>\n",
       "      <td>06-09-2015</td>\n",
       "      <td>West</td>\n",
       "      <td>2305</td>\n",
       "      <td>0.26</td>\n",
       "      <td>322.70</td>\n",
       "      <td>Tamil Nadu</td>\n",
       "    </tr>\n",
       "    <tr>\n",
       "      <th>6</th>\n",
       "      <td>OD7</td>\n",
       "      <td>Jonas</td>\n",
       "      <td>Fruits &amp; Veggies</td>\n",
       "      <td>Fresh Vegetables</td>\n",
       "      <td>Trichy</td>\n",
       "      <td>06-09-2015</td>\n",
       "      <td>West</td>\n",
       "      <td>826</td>\n",
       "      <td>0.33</td>\n",
       "      <td>346.92</td>\n",
       "      <td>Tamil Nadu</td>\n",
       "    </tr>\n",
       "    <tr>\n",
       "      <th>...</th>\n",
       "      <td>...</td>\n",
       "      <td>...</td>\n",
       "      <td>...</td>\n",
       "      <td>...</td>\n",
       "      <td>...</td>\n",
       "      <td>...</td>\n",
       "      <td>...</td>\n",
       "      <td>...</td>\n",
       "      <td>...</td>\n",
       "      <td>...</td>\n",
       "      <td>...</td>\n",
       "    </tr>\n",
       "    <tr>\n",
       "      <th>9989</th>\n",
       "      <td>OD9990</td>\n",
       "      <td>Sudeep</td>\n",
       "      <td>Eggs, Meat &amp; Fish</td>\n",
       "      <td>Eggs</td>\n",
       "      <td>Madurai</td>\n",
       "      <td>12/24/2015</td>\n",
       "      <td>West</td>\n",
       "      <td>945</td>\n",
       "      <td>0.16</td>\n",
       "      <td>359.10</td>\n",
       "      <td>Tamil Nadu</td>\n",
       "    </tr>\n",
       "    <tr>\n",
       "      <th>9990</th>\n",
       "      <td>OD9991</td>\n",
       "      <td>Alan</td>\n",
       "      <td>Bakery</td>\n",
       "      <td>Biscuits</td>\n",
       "      <td>Kanyakumari</td>\n",
       "      <td>07-12-2015</td>\n",
       "      <td>West</td>\n",
       "      <td>1195</td>\n",
       "      <td>0.26</td>\n",
       "      <td>71.70</td>\n",
       "      <td>Tamil Nadu</td>\n",
       "    </tr>\n",
       "    <tr>\n",
       "      <th>9991</th>\n",
       "      <td>OD9992</td>\n",
       "      <td>Ravi</td>\n",
       "      <td>Food Grains</td>\n",
       "      <td>Rice</td>\n",
       "      <td>Bodi</td>\n",
       "      <td>06-06-2017</td>\n",
       "      <td>West</td>\n",
       "      <td>1567</td>\n",
       "      <td>0.16</td>\n",
       "      <td>501.44</td>\n",
       "      <td>Tamil Nadu</td>\n",
       "    </tr>\n",
       "    <tr>\n",
       "      <th>9992</th>\n",
       "      <td>OD9993</td>\n",
       "      <td>Peer</td>\n",
       "      <td>Oil &amp; Masala</td>\n",
       "      <td>Spices</td>\n",
       "      <td>Pudukottai</td>\n",
       "      <td>10/16/2018</td>\n",
       "      <td>West</td>\n",
       "      <td>1659</td>\n",
       "      <td>0.15</td>\n",
       "      <td>597.24</td>\n",
       "      <td>Tamil Nadu</td>\n",
       "    </tr>\n",
       "    <tr>\n",
       "      <th>9993</th>\n",
       "      <td>OD9994</td>\n",
       "      <td>Ganesh</td>\n",
       "      <td>Food Grains</td>\n",
       "      <td>Atta &amp; Flour</td>\n",
       "      <td>Tirunelveli</td>\n",
       "      <td>4/17/2018</td>\n",
       "      <td>West</td>\n",
       "      <td>1034</td>\n",
       "      <td>0.28</td>\n",
       "      <td>165.44</td>\n",
       "      <td>Tamil Nadu</td>\n",
       "    </tr>\n",
       "  </tbody>\n",
       "</table>\n",
       "<p>9992 rows × 11 columns</p>\n",
       "</div>"
      ],
      "text/plain": [
       "     Order ID Customer Name           Category      Sub Category         City  \\\n",
       "0         OD1        Harish       Oil & Masala           Masalas      Vellore   \n",
       "1         OD2         Sudha          Beverages     Health Drinks  Krishnagiri   \n",
       "4         OD5       Ridhesh        Food Grains   Organic Staples         Ooty   \n",
       "5         OD6        Adavan        Food Grains   Organic Staples   Dharmapuri   \n",
       "6         OD7         Jonas   Fruits & Veggies  Fresh Vegetables       Trichy   \n",
       "...       ...           ...                ...               ...          ...   \n",
       "9989   OD9990        Sudeep  Eggs, Meat & Fish              Eggs      Madurai   \n",
       "9990   OD9991          Alan             Bakery          Biscuits  Kanyakumari   \n",
       "9991   OD9992          Ravi        Food Grains              Rice         Bodi   \n",
       "9992   OD9993          Peer       Oil & Masala            Spices   Pudukottai   \n",
       "9993   OD9994        Ganesh        Food Grains      Atta & Flour  Tirunelveli   \n",
       "\n",
       "      Order Date Region  Sales  Discount  Profit       State  \n",
       "0     11-08-2017  North   1254      0.12  401.28  Tamil Nadu  \n",
       "1     11-08-2017  South    749      0.18  149.80  Tamil Nadu  \n",
       "4     10-11-2016  South   2355      0.26  918.45  Tamil Nadu  \n",
       "5     06-09-2015   West   2305      0.26  322.70  Tamil Nadu  \n",
       "6     06-09-2015   West    826      0.33  346.92  Tamil Nadu  \n",
       "...          ...    ...    ...       ...     ...         ...  \n",
       "9989  12/24/2015   West    945      0.16  359.10  Tamil Nadu  \n",
       "9990  07-12-2015   West   1195      0.26   71.70  Tamil Nadu  \n",
       "9991  06-06-2017   West   1567      0.16  501.44  Tamil Nadu  \n",
       "9992  10/16/2018   West   1659      0.15  597.24  Tamil Nadu  \n",
       "9993   4/17/2018   West   1034      0.28  165.44  Tamil Nadu  \n",
       "\n",
       "[9992 rows x 11 columns]"
      ]
     },
     "execution_count": 8,
     "metadata": {},
     "output_type": "execute_result"
    }
   ],
   "source": [
    "# Drops 2nd and 3rd rows from the table\n",
    "grocery.drop([2,3])"
   ]
  },
  {
   "cell_type": "code",
   "execution_count": 9,
   "id": "269ede4e",
   "metadata": {},
   "outputs": [
    {
     "data": {
      "text/html": [
       "<div>\n",
       "<style scoped>\n",
       "    .dataframe tbody tr th:only-of-type {\n",
       "        vertical-align: middle;\n",
       "    }\n",
       "\n",
       "    .dataframe tbody tr th {\n",
       "        vertical-align: top;\n",
       "    }\n",
       "\n",
       "    .dataframe thead th {\n",
       "        text-align: right;\n",
       "    }\n",
       "</style>\n",
       "<table border=\"1\" class=\"dataframe\">\n",
       "  <thead>\n",
       "    <tr style=\"text-align: right;\">\n",
       "      <th></th>\n",
       "      <th>Customer Name</th>\n",
       "      <th>State</th>\n",
       "    </tr>\n",
       "  </thead>\n",
       "  <tbody>\n",
       "    <tr>\n",
       "      <th>0</th>\n",
       "      <td>Harish</td>\n",
       "      <td>Tamil Nadu</td>\n",
       "    </tr>\n",
       "    <tr>\n",
       "      <th>1</th>\n",
       "      <td>Sudha</td>\n",
       "      <td>Tamil Nadu</td>\n",
       "    </tr>\n",
       "    <tr>\n",
       "      <th>2</th>\n",
       "      <td>Hussain</td>\n",
       "      <td>Tamil Nadu</td>\n",
       "    </tr>\n",
       "    <tr>\n",
       "      <th>3</th>\n",
       "      <td>Jackson</td>\n",
       "      <td>Tamil Nadu</td>\n",
       "    </tr>\n",
       "    <tr>\n",
       "      <th>4</th>\n",
       "      <td>Ridhesh</td>\n",
       "      <td>Tamil Nadu</td>\n",
       "    </tr>\n",
       "    <tr>\n",
       "      <th>...</th>\n",
       "      <td>...</td>\n",
       "      <td>...</td>\n",
       "    </tr>\n",
       "    <tr>\n",
       "      <th>9989</th>\n",
       "      <td>Sudeep</td>\n",
       "      <td>Tamil Nadu</td>\n",
       "    </tr>\n",
       "    <tr>\n",
       "      <th>9990</th>\n",
       "      <td>Alan</td>\n",
       "      <td>Tamil Nadu</td>\n",
       "    </tr>\n",
       "    <tr>\n",
       "      <th>9991</th>\n",
       "      <td>Ravi</td>\n",
       "      <td>Tamil Nadu</td>\n",
       "    </tr>\n",
       "    <tr>\n",
       "      <th>9992</th>\n",
       "      <td>Peer</td>\n",
       "      <td>Tamil Nadu</td>\n",
       "    </tr>\n",
       "    <tr>\n",
       "      <th>9993</th>\n",
       "      <td>Ganesh</td>\n",
       "      <td>Tamil Nadu</td>\n",
       "    </tr>\n",
       "  </tbody>\n",
       "</table>\n",
       "<p>9994 rows × 2 columns</p>\n",
       "</div>"
      ],
      "text/plain": [
       "     Customer Name       State\n",
       "0           Harish  Tamil Nadu\n",
       "1            Sudha  Tamil Nadu\n",
       "2          Hussain  Tamil Nadu\n",
       "3          Jackson  Tamil Nadu\n",
       "4          Ridhesh  Tamil Nadu\n",
       "...            ...         ...\n",
       "9989        Sudeep  Tamil Nadu\n",
       "9990          Alan  Tamil Nadu\n",
       "9991          Ravi  Tamil Nadu\n",
       "9992          Peer  Tamil Nadu\n",
       "9993        Ganesh  Tamil Nadu\n",
       "\n",
       "[9994 rows x 2 columns]"
      ]
     },
     "execution_count": 9,
     "metadata": {},
     "output_type": "execute_result"
    }
   ],
   "source": [
    "# Displays the customer name and State from the dataset\n",
    "grocery[['Customer Name','State']]"
   ]
  },
  {
   "cell_type": "code",
   "execution_count": 17,
   "id": "ff161a0e",
   "metadata": {},
   "outputs": [
    {
     "data": {
      "text/plain": [
       "0        3.125000\n",
       "1        5.000000\n",
       "2       14.285714\n",
       "3       10.000000\n",
       "4        2.564103\n",
       "          ...    \n",
       "9989     2.631579\n",
       "9990    16.666667\n",
       "9991     3.125000\n",
       "9992     2.777778\n",
       "9993     6.250000\n",
       "Length: 9994, dtype: float64"
      ]
     },
     "execution_count": 17,
     "metadata": {},
     "output_type": "execute_result"
    }
   ],
   "source": [
    "# Displays the sales by profit value from the table\n",
    "grocery['Sales']/grocery['Profit']"
   ]
  },
  {
   "cell_type": "code",
   "execution_count": 21,
   "id": "74ae7f51",
   "metadata": {},
   "outputs": [],
   "source": [
    "grocery['Sales by Profit']=grocery['Sales']/grocery['Profit']"
   ]
  },
  {
   "cell_type": "code",
   "execution_count": 20,
   "id": "c83b2d59",
   "metadata": {},
   "outputs": [
    {
     "data": {
      "text/plain": [
       "0        3.125000\n",
       "1        5.000000\n",
       "2       14.285714\n",
       "3       10.000000\n",
       "4        2.564103\n",
       "          ...    \n",
       "9989     2.631579\n",
       "9990    16.666667\n",
       "9991     3.125000\n",
       "9992     2.777778\n",
       "9993     6.250000\n",
       "Name: Sales by Profit, Length: 9994, dtype: float64"
      ]
     },
     "execution_count": 20,
     "metadata": {},
     "output_type": "execute_result"
    }
   ],
   "source": [
    "# Displays the Sales by Profit value from the table\n",
    "grocery['Sales by Profit']"
   ]
  },
  {
   "cell_type": "code",
   "execution_count": 24,
   "id": "0c6355fb",
   "metadata": {},
   "outputs": [
    {
     "data": {
      "text/plain": [
       "True"
      ]
     },
     "execution_count": 24,
     "metadata": {},
     "output_type": "execute_result"
    }
   ],
   "source": [
    "# Detect missing values for an object\n",
    "pd.isnull(np.nan)"
   ]
  },
  {
   "cell_type": "code",
   "execution_count": 25,
   "id": "d6f7e96c",
   "metadata": {},
   "outputs": [
    {
     "data": {
      "text/plain": [
       "True"
      ]
     },
     "execution_count": 25,
     "metadata": {},
     "output_type": "execute_result"
    }
   ],
   "source": [
    "# Detect missing values for an object\n",
    "pd.isnull(None)"
   ]
  },
  {
   "cell_type": "code",
   "execution_count": 27,
   "id": "b56a8225",
   "metadata": {},
   "outputs": [
    {
     "data": {
      "text/plain": [
       "False"
      ]
     },
     "execution_count": 27,
     "metadata": {},
     "output_type": "execute_result"
    }
   ],
   "source": [
    "# Detect non missing values for an object\n",
    "pd.notnull(None)"
   ]
  },
  {
   "cell_type": "code",
   "execution_count": 28,
   "id": "1036a255",
   "metadata": {},
   "outputs": [
    {
     "data": {
      "text/plain": [
       "False"
      ]
     },
     "execution_count": 28,
     "metadata": {},
     "output_type": "execute_result"
    }
   ],
   "source": [
    "# Detect non missing values for an object\n",
    "pd.notnull(np.nan)"
   ]
  },
  {
   "cell_type": "code",
   "execution_count": 31,
   "id": "7fdf05b7",
   "metadata": {},
   "outputs": [
    {
     "data": {
      "text/plain": [
       "0    False\n",
       "1     True\n",
       "2    False\n",
       "dtype: bool"
      ]
     },
     "execution_count": 31,
     "metadata": {},
     "output_type": "execute_result"
    }
   ],
   "source": [
    "# Return a boolean same-sized object indicating if the values are NA. NA values, such as None or numpy.NaN , gets mapped to True values.\n",
    "pd.isnull(pd.Series([1,np.nan,10]))"
   ]
  },
  {
   "cell_type": "code",
   "execution_count": 32,
   "id": "94ed8b0f",
   "metadata": {},
   "outputs": [
    {
     "data": {
      "text/plain": [
       "0     True\n",
       "1    False\n",
       "2     True\n",
       "dtype: bool"
      ]
     },
     "execution_count": 32,
     "metadata": {},
     "output_type": "execute_result"
    }
   ],
   "source": [
    "# Return a boolean same-sized object indicating if the values are not NA. \n",
    "pd.notnull(pd.Series([1,np.nan,10]))"
   ]
  },
  {
   "cell_type": "code",
   "execution_count": 35,
   "id": "2b5c6d10",
   "metadata": {},
   "outputs": [],
   "source": [
    "# Return a boolean same-sized object indicating if the values are NA. \n",
    "grocery=pd.Series([1,2,3,np.nan,np.nan,4])"
   ]
  },
  {
   "cell_type": "code",
   "execution_count": 36,
   "id": "5b87e795",
   "metadata": {},
   "outputs": [
    {
     "data": {
      "text/plain": [
       "0    1.0\n",
       "1    2.0\n",
       "2    3.0\n",
       "3    NaN\n",
       "4    NaN\n",
       "5    4.0\n",
       "dtype: float64"
      ]
     },
     "execution_count": 36,
     "metadata": {},
     "output_type": "execute_result"
    }
   ],
   "source": [
    "grocery"
   ]
  },
  {
   "cell_type": "code",
   "execution_count": 38,
   "id": "cfff6942",
   "metadata": {},
   "outputs": [
    {
     "data": {
      "text/plain": [
       "0     True\n",
       "1     True\n",
       "2     True\n",
       "3    False\n",
       "4    False\n",
       "5     True\n",
       "dtype: bool"
      ]
     },
     "execution_count": 38,
     "metadata": {},
     "output_type": "execute_result"
    }
   ],
   "source": [
    "# Return a boolean same-sized object indicating if the values are not NA. \n",
    "pd.notnull(grocery)"
   ]
  },
  {
   "cell_type": "code",
   "execution_count": 42,
   "id": "bb44eb22",
   "metadata": {},
   "outputs": [
    {
     "data": {
      "text/plain": [
       "0    False\n",
       "1    False\n",
       "2    False\n",
       "3     True\n",
       "4     True\n",
       "5    False\n",
       "dtype: bool"
      ]
     },
     "execution_count": 42,
     "metadata": {},
     "output_type": "execute_result"
    }
   ],
   "source": [
    "# Returns a boolean same-sized object indicating if the values are NA. \n",
    "pd.isnull(grocery)"
   ]
  },
  {
   "cell_type": "code",
   "execution_count": 39,
   "id": "1863afd5",
   "metadata": {},
   "outputs": [
    {
     "data": {
      "text/plain": [
       "6"
      ]
     },
     "execution_count": 39,
     "metadata": {},
     "output_type": "execute_result"
    }
   ],
   "source": [
    "# Returns the number of elements with the specified value\n",
    "pd.notnull(grocery).count()"
   ]
  },
  {
   "cell_type": "code",
   "execution_count": 40,
   "id": "2ac551c6",
   "metadata": {},
   "outputs": [
    {
     "data": {
      "text/plain": [
       "4"
      ]
     },
     "execution_count": 40,
     "metadata": {},
     "output_type": "execute_result"
    }
   ],
   "source": [
    "# Adds up all the numerical values in an iterable\n",
    "pd.notnull(grocery).sum()"
   ]
  },
  {
   "cell_type": "code",
   "execution_count": 45,
   "id": "3ae0d2dd",
   "metadata": {},
   "outputs": [
    {
     "data": {
      "text/plain": [
       "0    1.0\n",
       "1    2.0\n",
       "2    3.0\n",
       "5    4.0\n",
       "dtype: float64"
      ]
     },
     "execution_count": 45,
     "metadata": {},
     "output_type": "execute_result"
    }
   ],
   "source": [
    "# Detect non missing values for an object\n",
    "grocery[grocery.notnull()]"
   ]
  },
  {
   "cell_type": "code",
   "execution_count": 316,
   "id": "6a17b925",
   "metadata": {},
   "outputs": [
    {
     "data": {
      "text/html": [
       "<div>\n",
       "<style scoped>\n",
       "    .dataframe tbody tr th:only-of-type {\n",
       "        vertical-align: middle;\n",
       "    }\n",
       "\n",
       "    .dataframe tbody tr th {\n",
       "        vertical-align: top;\n",
       "    }\n",
       "\n",
       "    .dataframe thead th {\n",
       "        text-align: right;\n",
       "    }\n",
       "</style>\n",
       "<table border=\"1\" class=\"dataframe\">\n",
       "  <thead>\n",
       "    <tr style=\"text-align: right;\">\n",
       "      <th></th>\n",
       "      <th>Order ID</th>\n",
       "      <th>Customer Name</th>\n",
       "      <th>Category</th>\n",
       "      <th>Sub Category</th>\n",
       "      <th>City</th>\n",
       "      <th>Order Date</th>\n",
       "      <th>Region</th>\n",
       "      <th>Sales</th>\n",
       "      <th>Discount</th>\n",
       "      <th>Profit</th>\n",
       "      <th>State</th>\n",
       "    </tr>\n",
       "  </thead>\n",
       "  <tbody>\n",
       "    <tr>\n",
       "      <th>0</th>\n",
       "      <td>OD1</td>\n",
       "      <td>Harish</td>\n",
       "      <td>Oil &amp; Masala</td>\n",
       "      <td>Masalas</td>\n",
       "      <td>Vellore</td>\n",
       "      <td>11-08-2017</td>\n",
       "      <td>North</td>\n",
       "      <td>1254.0</td>\n",
       "      <td>0.12</td>\n",
       "      <td>401.28</td>\n",
       "      <td>Tamil Nadu</td>\n",
       "    </tr>\n",
       "    <tr>\n",
       "      <th>1</th>\n",
       "      <td>OD2</td>\n",
       "      <td>Sudha</td>\n",
       "      <td>Beverages</td>\n",
       "      <td>Health Drinks</td>\n",
       "      <td>Krishnagiri</td>\n",
       "      <td>11-08-2017</td>\n",
       "      <td>South</td>\n",
       "      <td>749.0</td>\n",
       "      <td>0.18</td>\n",
       "      <td>149.80</td>\n",
       "      <td>Tamil Nadu</td>\n",
       "    </tr>\n",
       "    <tr>\n",
       "      <th>2</th>\n",
       "      <td>OD3</td>\n",
       "      <td>Hussain</td>\n",
       "      <td>Food Grains</td>\n",
       "      <td>Atta &amp; Flour</td>\n",
       "      <td>Perambalur</td>\n",
       "      <td>06-12-2017</td>\n",
       "      <td>West</td>\n",
       "      <td>2360.0</td>\n",
       "      <td>0.21</td>\n",
       "      <td>165.20</td>\n",
       "      <td>Tamil Nadu</td>\n",
       "    </tr>\n",
       "    <tr>\n",
       "      <th>3</th>\n",
       "      <td>OD4</td>\n",
       "      <td>Jackson</td>\n",
       "      <td>Fruits &amp; Veggies</td>\n",
       "      <td>Fresh Vegetables</td>\n",
       "      <td>Dharmapuri</td>\n",
       "      <td>10-11-2016</td>\n",
       "      <td>South</td>\n",
       "      <td>896.0</td>\n",
       "      <td>0.25</td>\n",
       "      <td>89.60</td>\n",
       "      <td>Tamil Nadu</td>\n",
       "    </tr>\n",
       "    <tr>\n",
       "      <th>4</th>\n",
       "      <td>OD5</td>\n",
       "      <td>Ridhesh</td>\n",
       "      <td>Food Grains</td>\n",
       "      <td>Organic Staples</td>\n",
       "      <td>Ooty</td>\n",
       "      <td>10-11-2016</td>\n",
       "      <td>South</td>\n",
       "      <td>2355.0</td>\n",
       "      <td>0.26</td>\n",
       "      <td>918.45</td>\n",
       "      <td>Tamil Nadu</td>\n",
       "    </tr>\n",
       "    <tr>\n",
       "      <th>...</th>\n",
       "      <td>...</td>\n",
       "      <td>...</td>\n",
       "      <td>...</td>\n",
       "      <td>...</td>\n",
       "      <td>...</td>\n",
       "      <td>...</td>\n",
       "      <td>...</td>\n",
       "      <td>...</td>\n",
       "      <td>...</td>\n",
       "      <td>...</td>\n",
       "      <td>...</td>\n",
       "    </tr>\n",
       "    <tr>\n",
       "      <th>9989</th>\n",
       "      <td>OD9990</td>\n",
       "      <td>Sudeep</td>\n",
       "      <td>Eggs, Meat &amp; Fish</td>\n",
       "      <td>Eggs</td>\n",
       "      <td>Madurai</td>\n",
       "      <td>12-24-2015</td>\n",
       "      <td>West</td>\n",
       "      <td>945.0</td>\n",
       "      <td>0.16</td>\n",
       "      <td>359.10</td>\n",
       "      <td>Tamil Nadu</td>\n",
       "    </tr>\n",
       "    <tr>\n",
       "      <th>9990</th>\n",
       "      <td>OD9991</td>\n",
       "      <td>Alan</td>\n",
       "      <td>Bakery</td>\n",
       "      <td>Biscuits</td>\n",
       "      <td>Kanyakumari</td>\n",
       "      <td>07-12-2015</td>\n",
       "      <td>West</td>\n",
       "      <td>1195.0</td>\n",
       "      <td>0.26</td>\n",
       "      <td>71.70</td>\n",
       "      <td>Tamil Nadu</td>\n",
       "    </tr>\n",
       "    <tr>\n",
       "      <th>9991</th>\n",
       "      <td>OD9992</td>\n",
       "      <td>Ravi</td>\n",
       "      <td>Food Grains</td>\n",
       "      <td>Rice</td>\n",
       "      <td>Bodi</td>\n",
       "      <td>06-06-2017</td>\n",
       "      <td>West</td>\n",
       "      <td>1567.0</td>\n",
       "      <td>0.16</td>\n",
       "      <td>501.44</td>\n",
       "      <td>Tamil Nadu</td>\n",
       "    </tr>\n",
       "    <tr>\n",
       "      <th>9992</th>\n",
       "      <td>OD9993</td>\n",
       "      <td>Peer</td>\n",
       "      <td>Oil &amp; Masala</td>\n",
       "      <td>Spices</td>\n",
       "      <td>Pudukottai</td>\n",
       "      <td>10-16-2018</td>\n",
       "      <td>West</td>\n",
       "      <td>1659.0</td>\n",
       "      <td>0.15</td>\n",
       "      <td>597.24</td>\n",
       "      <td>Tamil Nadu</td>\n",
       "    </tr>\n",
       "    <tr>\n",
       "      <th>9993</th>\n",
       "      <td>OD9994</td>\n",
       "      <td>Ganesh</td>\n",
       "      <td>Food Grains</td>\n",
       "      <td>Atta &amp; Flour</td>\n",
       "      <td>Tirunelveli</td>\n",
       "      <td>4-17-2018</td>\n",
       "      <td>West</td>\n",
       "      <td>1034.0</td>\n",
       "      <td>0.28</td>\n",
       "      <td>165.44</td>\n",
       "      <td>Tamil Nadu</td>\n",
       "    </tr>\n",
       "  </tbody>\n",
       "</table>\n",
       "<p>9994 rows × 11 columns</p>\n",
       "</div>"
      ],
      "text/plain": [
       "     Order ID Customer Name           Category      Sub Category         City  \\\n",
       "0         OD1        Harish       Oil & Masala           Masalas      Vellore   \n",
       "1         OD2         Sudha          Beverages     Health Drinks  Krishnagiri   \n",
       "2         OD3       Hussain        Food Grains      Atta & Flour   Perambalur   \n",
       "3         OD4       Jackson   Fruits & Veggies  Fresh Vegetables   Dharmapuri   \n",
       "4         OD5       Ridhesh        Food Grains   Organic Staples         Ooty   \n",
       "...       ...           ...                ...               ...          ...   \n",
       "9989   OD9990        Sudeep  Eggs, Meat & Fish              Eggs      Madurai   \n",
       "9990   OD9991          Alan             Bakery          Biscuits  Kanyakumari   \n",
       "9991   OD9992          Ravi        Food Grains              Rice         Bodi   \n",
       "9992   OD9993          Peer       Oil & Masala            Spices   Pudukottai   \n",
       "9993   OD9994        Ganesh        Food Grains      Atta & Flour  Tirunelveli   \n",
       "\n",
       "      Order Date Region   Sales  Discount  Profit       State  \n",
       "0     11-08-2017  North  1254.0      0.12  401.28  Tamil Nadu  \n",
       "1     11-08-2017  South   749.0      0.18  149.80  Tamil Nadu  \n",
       "2     06-12-2017   West  2360.0      0.21  165.20  Tamil Nadu  \n",
       "3     10-11-2016  South   896.0      0.25   89.60  Tamil Nadu  \n",
       "4     10-11-2016  South  2355.0      0.26  918.45  Tamil Nadu  \n",
       "...          ...    ...     ...       ...     ...         ...  \n",
       "9989  12-24-2015   West   945.0      0.16  359.10  Tamil Nadu  \n",
       "9990  07-12-2015   West  1195.0      0.26   71.70  Tamil Nadu  \n",
       "9991  06-06-2017   West  1567.0      0.16  501.44  Tamil Nadu  \n",
       "9992  10-16-2018   West  1659.0      0.15  597.24  Tamil Nadu  \n",
       "9993   4-17-2018   West  1034.0      0.28  165.44  Tamil Nadu  \n",
       "\n",
       "[9994 rows x 11 columns]"
      ]
     },
     "execution_count": 316,
     "metadata": {},
     "output_type": "execute_result"
    }
   ],
   "source": [
    "# Removes the rows that contains NULL values\n",
    "grocery.dropna()"
   ]
  },
  {
   "cell_type": "code",
   "execution_count": 317,
   "id": "47aebd8c",
   "metadata": {},
   "outputs": [
    {
     "data": {
      "text/plain": [
       "Order ID         1\n",
       "Customer Name    1\n",
       "Category         1\n",
       "Sub Category     1\n",
       "City             1\n",
       "Order Date       1\n",
       "Region           1\n",
       "Sales            0\n",
       "Discount         0\n",
       "Profit           0\n",
       "State            1\n",
       "dtype: int64"
      ]
     },
     "execution_count": 317,
     "metadata": {},
     "output_type": "execute_result"
    }
   ],
   "source": [
    "# Finds the count of all NULL values in grocery table\n",
    "grocery.isnull().sum()"
   ]
  },
  {
   "cell_type": "code",
   "execution_count": 318,
   "id": "e567220c",
   "metadata": {},
   "outputs": [
    {
     "data": {
      "text/html": [
       "<div>\n",
       "<style scoped>\n",
       "    .dataframe tbody tr th:only-of-type {\n",
       "        vertical-align: middle;\n",
       "    }\n",
       "\n",
       "    .dataframe tbody tr th {\n",
       "        vertical-align: top;\n",
       "    }\n",
       "\n",
       "    .dataframe thead th {\n",
       "        text-align: right;\n",
       "    }\n",
       "</style>\n",
       "<table border=\"1\" class=\"dataframe\">\n",
       "  <thead>\n",
       "    <tr style=\"text-align: right;\">\n",
       "      <th></th>\n",
       "      <th>Order ID</th>\n",
       "      <th>Customer Name</th>\n",
       "      <th>Category</th>\n",
       "      <th>Sub Category</th>\n",
       "      <th>City</th>\n",
       "      <th>Order Date</th>\n",
       "      <th>Region</th>\n",
       "      <th>Sales</th>\n",
       "      <th>Discount</th>\n",
       "      <th>Profit</th>\n",
       "      <th>State</th>\n",
       "    </tr>\n",
       "  </thead>\n",
       "  <tbody>\n",
       "    <tr>\n",
       "      <th>0</th>\n",
       "      <td>OD1</td>\n",
       "      <td>Harish</td>\n",
       "      <td>Oil &amp; Masala</td>\n",
       "      <td>Masalas</td>\n",
       "      <td>Vellore</td>\n",
       "      <td>11-08-2017</td>\n",
       "      <td>North</td>\n",
       "      <td>1254.000000</td>\n",
       "      <td>0.120000</td>\n",
       "      <td>401.280000</td>\n",
       "      <td>Tamil Nadu</td>\n",
       "    </tr>\n",
       "    <tr>\n",
       "      <th>1</th>\n",
       "      <td>OD2</td>\n",
       "      <td>Sudha</td>\n",
       "      <td>Beverages</td>\n",
       "      <td>Health Drinks</td>\n",
       "      <td>Krishnagiri</td>\n",
       "      <td>11-08-2017</td>\n",
       "      <td>South</td>\n",
       "      <td>749.000000</td>\n",
       "      <td>0.180000</td>\n",
       "      <td>149.800000</td>\n",
       "      <td>Tamil Nadu</td>\n",
       "    </tr>\n",
       "    <tr>\n",
       "      <th>2</th>\n",
       "      <td>OD3</td>\n",
       "      <td>Hussain</td>\n",
       "      <td>Food Grains</td>\n",
       "      <td>Atta &amp; Flour</td>\n",
       "      <td>Perambalur</td>\n",
       "      <td>06-12-2017</td>\n",
       "      <td>West</td>\n",
       "      <td>2360.000000</td>\n",
       "      <td>0.210000</td>\n",
       "      <td>165.200000</td>\n",
       "      <td>Tamil Nadu</td>\n",
       "    </tr>\n",
       "    <tr>\n",
       "      <th>3</th>\n",
       "      <td>OD4</td>\n",
       "      <td>Jackson</td>\n",
       "      <td>Fruits &amp; Veggies</td>\n",
       "      <td>Fresh Vegetables</td>\n",
       "      <td>Dharmapuri</td>\n",
       "      <td>10-11-2016</td>\n",
       "      <td>South</td>\n",
       "      <td>896.000000</td>\n",
       "      <td>0.250000</td>\n",
       "      <td>89.600000</td>\n",
       "      <td>Tamil Nadu</td>\n",
       "    </tr>\n",
       "    <tr>\n",
       "      <th>4</th>\n",
       "      <td>OD5</td>\n",
       "      <td>Ridhesh</td>\n",
       "      <td>Food Grains</td>\n",
       "      <td>Organic Staples</td>\n",
       "      <td>Ooty</td>\n",
       "      <td>10-11-2016</td>\n",
       "      <td>South</td>\n",
       "      <td>2355.000000</td>\n",
       "      <td>0.260000</td>\n",
       "      <td>918.450000</td>\n",
       "      <td>Tamil Nadu</td>\n",
       "    </tr>\n",
       "    <tr>\n",
       "      <th>...</th>\n",
       "      <td>...</td>\n",
       "      <td>...</td>\n",
       "      <td>...</td>\n",
       "      <td>...</td>\n",
       "      <td>...</td>\n",
       "      <td>...</td>\n",
       "      <td>...</td>\n",
       "      <td>...</td>\n",
       "      <td>...</td>\n",
       "      <td>...</td>\n",
       "      <td>...</td>\n",
       "    </tr>\n",
       "    <tr>\n",
       "      <th>9990</th>\n",
       "      <td>OD9991</td>\n",
       "      <td>Alan</td>\n",
       "      <td>Bakery</td>\n",
       "      <td>Biscuits</td>\n",
       "      <td>Kanyakumari</td>\n",
       "      <td>07-12-2015</td>\n",
       "      <td>West</td>\n",
       "      <td>1195.000000</td>\n",
       "      <td>0.260000</td>\n",
       "      <td>71.700000</td>\n",
       "      <td>Tamil Nadu</td>\n",
       "    </tr>\n",
       "    <tr>\n",
       "      <th>9991</th>\n",
       "      <td>OD9992</td>\n",
       "      <td>Ravi</td>\n",
       "      <td>Food Grains</td>\n",
       "      <td>Rice</td>\n",
       "      <td>Bodi</td>\n",
       "      <td>06-06-2017</td>\n",
       "      <td>West</td>\n",
       "      <td>1567.000000</td>\n",
       "      <td>0.160000</td>\n",
       "      <td>501.440000</td>\n",
       "      <td>Tamil Nadu</td>\n",
       "    </tr>\n",
       "    <tr>\n",
       "      <th>9992</th>\n",
       "      <td>OD9993</td>\n",
       "      <td>Peer</td>\n",
       "      <td>Oil &amp; Masala</td>\n",
       "      <td>Spices</td>\n",
       "      <td>Pudukottai</td>\n",
       "      <td>10-16-2018</td>\n",
       "      <td>West</td>\n",
       "      <td>1659.000000</td>\n",
       "      <td>0.150000</td>\n",
       "      <td>597.240000</td>\n",
       "      <td>Tamil Nadu</td>\n",
       "    </tr>\n",
       "    <tr>\n",
       "      <th>9993</th>\n",
       "      <td>OD9994</td>\n",
       "      <td>Ganesh</td>\n",
       "      <td>Food Grains</td>\n",
       "      <td>Atta &amp; Flour</td>\n",
       "      <td>Tirunelveli</td>\n",
       "      <td>4-17-2018</td>\n",
       "      <td>West</td>\n",
       "      <td>1034.000000</td>\n",
       "      <td>0.280000</td>\n",
       "      <td>165.440000</td>\n",
       "      <td>Tamil Nadu</td>\n",
       "    </tr>\n",
       "    <tr>\n",
       "      <th>9994</th>\n",
       "      <td>NaN</td>\n",
       "      <td>NaN</td>\n",
       "      <td>NaN</td>\n",
       "      <td>NaN</td>\n",
       "      <td>NaN</td>\n",
       "      <td>NaN</td>\n",
       "      <td>NaN</td>\n",
       "      <td>1496.596158</td>\n",
       "      <td>0.226817</td>\n",
       "      <td>374.937082</td>\n",
       "      <td>NaN</td>\n",
       "    </tr>\n",
       "  </tbody>\n",
       "</table>\n",
       "<p>9995 rows × 11 columns</p>\n",
       "</div>"
      ],
      "text/plain": [
       "     Order ID Customer Name          Category      Sub Category         City  \\\n",
       "0         OD1        Harish      Oil & Masala           Masalas      Vellore   \n",
       "1         OD2         Sudha         Beverages     Health Drinks  Krishnagiri   \n",
       "2         OD3       Hussain       Food Grains      Atta & Flour   Perambalur   \n",
       "3         OD4       Jackson  Fruits & Veggies  Fresh Vegetables   Dharmapuri   \n",
       "4         OD5       Ridhesh       Food Grains   Organic Staples         Ooty   \n",
       "...       ...           ...               ...               ...          ...   \n",
       "9990   OD9991          Alan            Bakery          Biscuits  Kanyakumari   \n",
       "9991   OD9992          Ravi       Food Grains              Rice         Bodi   \n",
       "9992   OD9993          Peer      Oil & Masala            Spices   Pudukottai   \n",
       "9993   OD9994        Ganesh       Food Grains      Atta & Flour  Tirunelveli   \n",
       "9994      NaN           NaN               NaN               NaN          NaN   \n",
       "\n",
       "      Order Date Region        Sales  Discount      Profit       State  \n",
       "0     11-08-2017  North  1254.000000  0.120000  401.280000  Tamil Nadu  \n",
       "1     11-08-2017  South   749.000000  0.180000  149.800000  Tamil Nadu  \n",
       "2     06-12-2017   West  2360.000000  0.210000  165.200000  Tamil Nadu  \n",
       "3     10-11-2016  South   896.000000  0.250000   89.600000  Tamil Nadu  \n",
       "4     10-11-2016  South  2355.000000  0.260000  918.450000  Tamil Nadu  \n",
       "...          ...    ...          ...       ...         ...         ...  \n",
       "9990  07-12-2015   West  1195.000000  0.260000   71.700000  Tamil Nadu  \n",
       "9991  06-06-2017   West  1567.000000  0.160000  501.440000  Tamil Nadu  \n",
       "9992  10-16-2018   West  1659.000000  0.150000  597.240000  Tamil Nadu  \n",
       "9993   4-17-2018   West  1034.000000  0.280000  165.440000  Tamil Nadu  \n",
       "9994         NaN    NaN  1496.596158  0.226817  374.937082         NaN  \n",
       "\n",
       "[9995 rows x 11 columns]"
      ]
     },
     "execution_count": 318,
     "metadata": {},
     "output_type": "execute_result"
    }
   ],
   "source": [
    "# Drops the rows with atleast 3 NULL values from the dataframe\n",
    "grocery.dropna(thresh=3)"
   ]
  },
  {
   "cell_type": "code",
   "execution_count": 319,
   "id": "58111f7d",
   "metadata": {},
   "outputs": [
    {
     "data": {
      "text/html": [
       "<div>\n",
       "<style scoped>\n",
       "    .dataframe tbody tr th:only-of-type {\n",
       "        vertical-align: middle;\n",
       "    }\n",
       "\n",
       "    .dataframe tbody tr th {\n",
       "        vertical-align: top;\n",
       "    }\n",
       "\n",
       "    .dataframe thead th {\n",
       "        text-align: right;\n",
       "    }\n",
       "</style>\n",
       "<table border=\"1\" class=\"dataframe\">\n",
       "  <thead>\n",
       "    <tr style=\"text-align: right;\">\n",
       "      <th></th>\n",
       "      <th>Order ID</th>\n",
       "      <th>Customer Name</th>\n",
       "      <th>Category</th>\n",
       "      <th>Sub Category</th>\n",
       "      <th>City</th>\n",
       "      <th>Order Date</th>\n",
       "      <th>Region</th>\n",
       "      <th>Sales</th>\n",
       "      <th>Discount</th>\n",
       "      <th>Profit</th>\n",
       "      <th>State</th>\n",
       "    </tr>\n",
       "  </thead>\n",
       "  <tbody>\n",
       "    <tr>\n",
       "      <th>0</th>\n",
       "      <td>OD1</td>\n",
       "      <td>Harish</td>\n",
       "      <td>Oil &amp; Masala</td>\n",
       "      <td>Masalas</td>\n",
       "      <td>Vellore</td>\n",
       "      <td>11-08-2017</td>\n",
       "      <td>North</td>\n",
       "      <td>1254.000000</td>\n",
       "      <td>0.120000</td>\n",
       "      <td>401.280000</td>\n",
       "      <td>Tamil Nadu</td>\n",
       "    </tr>\n",
       "    <tr>\n",
       "      <th>1</th>\n",
       "      <td>OD2</td>\n",
       "      <td>Sudha</td>\n",
       "      <td>Beverages</td>\n",
       "      <td>Health Drinks</td>\n",
       "      <td>Krishnagiri</td>\n",
       "      <td>11-08-2017</td>\n",
       "      <td>South</td>\n",
       "      <td>749.000000</td>\n",
       "      <td>0.180000</td>\n",
       "      <td>149.800000</td>\n",
       "      <td>Tamil Nadu</td>\n",
       "    </tr>\n",
       "    <tr>\n",
       "      <th>2</th>\n",
       "      <td>OD3</td>\n",
       "      <td>Hussain</td>\n",
       "      <td>Food Grains</td>\n",
       "      <td>Atta &amp; Flour</td>\n",
       "      <td>Perambalur</td>\n",
       "      <td>06-12-2017</td>\n",
       "      <td>West</td>\n",
       "      <td>2360.000000</td>\n",
       "      <td>0.210000</td>\n",
       "      <td>165.200000</td>\n",
       "      <td>Tamil Nadu</td>\n",
       "    </tr>\n",
       "    <tr>\n",
       "      <th>3</th>\n",
       "      <td>OD4</td>\n",
       "      <td>Jackson</td>\n",
       "      <td>Fruits &amp; Veggies</td>\n",
       "      <td>Fresh Vegetables</td>\n",
       "      <td>Dharmapuri</td>\n",
       "      <td>10-11-2016</td>\n",
       "      <td>South</td>\n",
       "      <td>896.000000</td>\n",
       "      <td>0.250000</td>\n",
       "      <td>89.600000</td>\n",
       "      <td>Tamil Nadu</td>\n",
       "    </tr>\n",
       "    <tr>\n",
       "      <th>4</th>\n",
       "      <td>OD5</td>\n",
       "      <td>Ridhesh</td>\n",
       "      <td>Food Grains</td>\n",
       "      <td>Organic Staples</td>\n",
       "      <td>Ooty</td>\n",
       "      <td>10-11-2016</td>\n",
       "      <td>South</td>\n",
       "      <td>2355.000000</td>\n",
       "      <td>0.260000</td>\n",
       "      <td>918.450000</td>\n",
       "      <td>Tamil Nadu</td>\n",
       "    </tr>\n",
       "    <tr>\n",
       "      <th>...</th>\n",
       "      <td>...</td>\n",
       "      <td>...</td>\n",
       "      <td>...</td>\n",
       "      <td>...</td>\n",
       "      <td>...</td>\n",
       "      <td>...</td>\n",
       "      <td>...</td>\n",
       "      <td>...</td>\n",
       "      <td>...</td>\n",
       "      <td>...</td>\n",
       "      <td>...</td>\n",
       "    </tr>\n",
       "    <tr>\n",
       "      <th>9990</th>\n",
       "      <td>OD9991</td>\n",
       "      <td>Alan</td>\n",
       "      <td>Bakery</td>\n",
       "      <td>Biscuits</td>\n",
       "      <td>Kanyakumari</td>\n",
       "      <td>07-12-2015</td>\n",
       "      <td>West</td>\n",
       "      <td>1195.000000</td>\n",
       "      <td>0.260000</td>\n",
       "      <td>71.700000</td>\n",
       "      <td>Tamil Nadu</td>\n",
       "    </tr>\n",
       "    <tr>\n",
       "      <th>9991</th>\n",
       "      <td>OD9992</td>\n",
       "      <td>Ravi</td>\n",
       "      <td>Food Grains</td>\n",
       "      <td>Rice</td>\n",
       "      <td>Bodi</td>\n",
       "      <td>06-06-2017</td>\n",
       "      <td>West</td>\n",
       "      <td>1567.000000</td>\n",
       "      <td>0.160000</td>\n",
       "      <td>501.440000</td>\n",
       "      <td>Tamil Nadu</td>\n",
       "    </tr>\n",
       "    <tr>\n",
       "      <th>9992</th>\n",
       "      <td>OD9993</td>\n",
       "      <td>Peer</td>\n",
       "      <td>Oil &amp; Masala</td>\n",
       "      <td>Spices</td>\n",
       "      <td>Pudukottai</td>\n",
       "      <td>10-16-2018</td>\n",
       "      <td>West</td>\n",
       "      <td>1659.000000</td>\n",
       "      <td>0.150000</td>\n",
       "      <td>597.240000</td>\n",
       "      <td>Tamil Nadu</td>\n",
       "    </tr>\n",
       "    <tr>\n",
       "      <th>9993</th>\n",
       "      <td>OD9994</td>\n",
       "      <td>Ganesh</td>\n",
       "      <td>Food Grains</td>\n",
       "      <td>Atta &amp; Flour</td>\n",
       "      <td>Tirunelveli</td>\n",
       "      <td>4-17-2018</td>\n",
       "      <td>West</td>\n",
       "      <td>1034.000000</td>\n",
       "      <td>0.280000</td>\n",
       "      <td>165.440000</td>\n",
       "      <td>Tamil Nadu</td>\n",
       "    </tr>\n",
       "    <tr>\n",
       "      <th>9994</th>\n",
       "      <td>0</td>\n",
       "      <td>0</td>\n",
       "      <td>0</td>\n",
       "      <td>0</td>\n",
       "      <td>0</td>\n",
       "      <td>0</td>\n",
       "      <td>0</td>\n",
       "      <td>1496.596158</td>\n",
       "      <td>0.226817</td>\n",
       "      <td>374.937082</td>\n",
       "      <td>0</td>\n",
       "    </tr>\n",
       "  </tbody>\n",
       "</table>\n",
       "<p>9995 rows × 11 columns</p>\n",
       "</div>"
      ],
      "text/plain": [
       "     Order ID Customer Name          Category      Sub Category         City  \\\n",
       "0         OD1        Harish      Oil & Masala           Masalas      Vellore   \n",
       "1         OD2         Sudha         Beverages     Health Drinks  Krishnagiri   \n",
       "2         OD3       Hussain       Food Grains      Atta & Flour   Perambalur   \n",
       "3         OD4       Jackson  Fruits & Veggies  Fresh Vegetables   Dharmapuri   \n",
       "4         OD5       Ridhesh       Food Grains   Organic Staples         Ooty   \n",
       "...       ...           ...               ...               ...          ...   \n",
       "9990   OD9991          Alan            Bakery          Biscuits  Kanyakumari   \n",
       "9991   OD9992          Ravi       Food Grains              Rice         Bodi   \n",
       "9992   OD9993          Peer      Oil & Masala            Spices   Pudukottai   \n",
       "9993   OD9994        Ganesh       Food Grains      Atta & Flour  Tirunelveli   \n",
       "9994        0             0                 0                 0            0   \n",
       "\n",
       "      Order Date Region        Sales  Discount      Profit       State  \n",
       "0     11-08-2017  North  1254.000000  0.120000  401.280000  Tamil Nadu  \n",
       "1     11-08-2017  South   749.000000  0.180000  149.800000  Tamil Nadu  \n",
       "2     06-12-2017   West  2360.000000  0.210000  165.200000  Tamil Nadu  \n",
       "3     10-11-2016  South   896.000000  0.250000   89.600000  Tamil Nadu  \n",
       "4     10-11-2016  South  2355.000000  0.260000  918.450000  Tamil Nadu  \n",
       "...          ...    ...          ...       ...         ...         ...  \n",
       "9990  07-12-2015   West  1195.000000  0.260000   71.700000  Tamil Nadu  \n",
       "9991  06-06-2017   West  1567.000000  0.160000  501.440000  Tamil Nadu  \n",
       "9992  10-16-2018   West  1659.000000  0.150000  597.240000  Tamil Nadu  \n",
       "9993   4-17-2018   West  1034.000000  0.280000  165.440000  Tamil Nadu  \n",
       "9994           0      0  1496.596158  0.226817  374.937082           0  \n",
       "\n",
       "[9995 rows x 11 columns]"
      ]
     },
     "execution_count": 319,
     "metadata": {},
     "output_type": "execute_result"
    }
   ],
   "source": [
    "# Replaces the NULL values with a specified value\n",
    "grocery.fillna(0)"
   ]
  },
  {
   "cell_type": "code",
   "execution_count": 244,
   "id": "7f2e211e",
   "metadata": {},
   "outputs": [
    {
     "data": {
      "text/plain": [
       "array(['Vellore', 'Krishnagiri', 'Perambalur', 'Dharmapuri', 'Ooty',\n",
       "       'Trichy', 'Ramanadhapuram', 'Tirunelveli', 'Chennai', 'Karur',\n",
       "       'Namakkal', 'Dindigul', 'Kanyakumari', 'Bodi', 'Tenkasi',\n",
       "       'Viluppuram', 'Madurai', 'Salem', 'Cumbum', 'Nagercoil',\n",
       "       'Pudukottai', 'Theni', 'Coimbatore', 'Virudhunagar', nan],\n",
       "      dtype=object)"
      ]
     },
     "execution_count": 244,
     "metadata": {},
     "output_type": "execute_result"
    }
   ],
   "source": [
    "# Finds the unique cities from the table\n",
    "grocery['City'].unique()"
   ]
  },
  {
   "cell_type": "code",
   "execution_count": 17,
   "id": "e1a31d10",
   "metadata": {},
   "outputs": [
    {
     "data": {
      "text/plain": [
       "Kanyakumari       459\n",
       "Tirunelveli       446\n",
       "Bodi              442\n",
       "Krishnagiri       440\n",
       "Vellore           435\n",
       "Perambalur        434\n",
       "Tenkasi           432\n",
       "Chennai           432\n",
       "Salem             431\n",
       "Karur             430\n",
       "Pudukottai        430\n",
       "Coimbatore        428\n",
       "Ramanadhapuram    421\n",
       "Cumbum            417\n",
       "Virudhunagar      416\n",
       "Madurai           408\n",
       "Ooty              404\n",
       "Namakkal          403\n",
       "Viluppuram        397\n",
       "Dindigul          396\n",
       "Theni             387\n",
       "Dharmapuri        376\n",
       "Nagercoil         373\n",
       "Trichy            357\n",
       "Name: City, dtype: int64"
      ]
     },
     "execution_count": 17,
     "metadata": {},
     "output_type": "execute_result"
    }
   ],
   "source": [
    "# Finds the count of each city from the table\n",
    "grocery['City'].value_counts()"
   ]
  },
  {
   "cell_type": "code",
   "execution_count": 20,
   "id": "12de18fd",
   "metadata": {},
   "outputs": [
    {
     "data": {
      "text/plain": [
       "0           Chennai\n",
       "1              Ooty\n",
       "2        Perambalur\n",
       "3        Dharmapuri\n",
       "4              Ooty\n",
       "           ...     \n",
       "9989        Madurai\n",
       "9990    Kanyakumari\n",
       "9991           Bodi\n",
       "9992     Pudukottai\n",
       "9993    Tirunelveli\n",
       "Name: City, Length: 9994, dtype: object"
      ]
     },
     "execution_count": 20,
     "metadata": {},
     "output_type": "execute_result"
    }
   ],
   "source": [
    "# Replaces values of below cities from the table\n",
    "grocery['City'].replace({'Vellore':'Chennai','Krishnagiri':'Ooty'})"
   ]
  },
  {
   "cell_type": "code",
   "execution_count": 21,
   "id": "c5d3ff6e",
   "metadata": {},
   "outputs": [
    {
     "data": {
      "text/plain": [
       "0       False\n",
       "1       False\n",
       "2       False\n",
       "3       False\n",
       "4       False\n",
       "        ...  \n",
       "9989    False\n",
       "9990    False\n",
       "9991    False\n",
       "9992    False\n",
       "9993    False\n",
       "Length: 9994, dtype: bool"
      ]
     },
     "execution_count": 21,
     "metadata": {},
     "output_type": "execute_result"
    }
   ],
   "source": [
    "# Finds duplicates from the table\n",
    "grocery.duplicated()"
   ]
  },
  {
   "cell_type": "code",
   "execution_count": 22,
   "id": "e4da4ff0",
   "metadata": {},
   "outputs": [
    {
     "data": {
      "text/plain": [
       "0       False\n",
       "1       False\n",
       "2       False\n",
       "3       False\n",
       "4       False\n",
       "        ...  \n",
       "9989    False\n",
       "9990    False\n",
       "9991    False\n",
       "9992    False\n",
       "9993    False\n",
       "Length: 9994, dtype: bool"
      ]
     },
     "execution_count": 22,
     "metadata": {},
     "output_type": "execute_result"
    }
   ],
   "source": [
    "# duplicate rows except the last one is deleted\n",
    "grocery.duplicated(keep='last')"
   ]
  },
  {
   "cell_type": "code",
   "execution_count": 23,
   "id": "b80e6899",
   "metadata": {},
   "outputs": [
    {
     "data": {
      "text/plain": [
       "0       False\n",
       "1       False\n",
       "2       False\n",
       "3       False\n",
       "4       False\n",
       "        ...  \n",
       "9989     True\n",
       "9990     True\n",
       "9991     True\n",
       "9992     True\n",
       "9993     True\n",
       "Length: 9994, dtype: bool"
      ]
     },
     "execution_count": 23,
     "metadata": {},
     "output_type": "execute_result"
    }
   ],
   "source": [
    "# Removes duplicate rows based on a specific column\n",
    "grocery.duplicated(subset=['Customer Name'])"
   ]
  },
  {
   "cell_type": "code",
   "execution_count": 24,
   "id": "8729e172",
   "metadata": {},
   "outputs": [
    {
     "data": {
      "text/plain": [
       "0        True\n",
       "1        True\n",
       "2        True\n",
       "3        True\n",
       "4        True\n",
       "        ...  \n",
       "9989    False\n",
       "9990    False\n",
       "9991    False\n",
       "9992    False\n",
       "9993    False\n",
       "Length: 9994, dtype: bool"
      ]
     },
     "execution_count": 24,
     "metadata": {},
     "output_type": "execute_result"
    }
   ],
   "source": [
    "# Removes duplicate rows based on a specific column except the last row\n",
    "grocery.duplicated(subset=['Customer Name'], keep='last')"
   ]
  },
  {
   "cell_type": "code",
   "execution_count": 25,
   "id": "c4aa61b5",
   "metadata": {},
   "outputs": [
    {
     "data": {
      "text/html": [
       "<div>\n",
       "<style scoped>\n",
       "    .dataframe tbody tr th:only-of-type {\n",
       "        vertical-align: middle;\n",
       "    }\n",
       "\n",
       "    .dataframe tbody tr th {\n",
       "        vertical-align: top;\n",
       "    }\n",
       "\n",
       "    .dataframe thead th {\n",
       "        text-align: right;\n",
       "    }\n",
       "</style>\n",
       "<table border=\"1\" class=\"dataframe\">\n",
       "  <thead>\n",
       "    <tr style=\"text-align: right;\">\n",
       "      <th></th>\n",
       "      <th>Order ID</th>\n",
       "      <th>Customer Name</th>\n",
       "      <th>Category</th>\n",
       "      <th>Sub Category</th>\n",
       "      <th>City</th>\n",
       "      <th>Order Date</th>\n",
       "      <th>Region</th>\n",
       "      <th>Sales</th>\n",
       "      <th>Discount</th>\n",
       "      <th>Profit</th>\n",
       "      <th>State</th>\n",
       "    </tr>\n",
       "  </thead>\n",
       "  <tbody>\n",
       "    <tr>\n",
       "      <th>0</th>\n",
       "      <td>OD1</td>\n",
       "      <td>Harish</td>\n",
       "      <td>Oil &amp; Masala</td>\n",
       "      <td>Masalas</td>\n",
       "      <td>Vellore</td>\n",
       "      <td>11-08-2017</td>\n",
       "      <td>North</td>\n",
       "      <td>1254</td>\n",
       "      <td>0.12</td>\n",
       "      <td>401.28</td>\n",
       "      <td>Tamil Nadu</td>\n",
       "    </tr>\n",
       "    <tr>\n",
       "      <th>1</th>\n",
       "      <td>OD2</td>\n",
       "      <td>Sudha</td>\n",
       "      <td>Beverages</td>\n",
       "      <td>Health Drinks</td>\n",
       "      <td>Krishnagiri</td>\n",
       "      <td>11-08-2017</td>\n",
       "      <td>South</td>\n",
       "      <td>749</td>\n",
       "      <td>0.18</td>\n",
       "      <td>149.80</td>\n",
       "      <td>Tamil Nadu</td>\n",
       "    </tr>\n",
       "    <tr>\n",
       "      <th>2</th>\n",
       "      <td>OD3</td>\n",
       "      <td>Hussain</td>\n",
       "      <td>Food Grains</td>\n",
       "      <td>Atta &amp; Flour</td>\n",
       "      <td>Perambalur</td>\n",
       "      <td>06-12-2017</td>\n",
       "      <td>West</td>\n",
       "      <td>2360</td>\n",
       "      <td>0.21</td>\n",
       "      <td>165.20</td>\n",
       "      <td>Tamil Nadu</td>\n",
       "    </tr>\n",
       "    <tr>\n",
       "      <th>3</th>\n",
       "      <td>OD4</td>\n",
       "      <td>Jackson</td>\n",
       "      <td>Fruits &amp; Veggies</td>\n",
       "      <td>Fresh Vegetables</td>\n",
       "      <td>Dharmapuri</td>\n",
       "      <td>10-11-2016</td>\n",
       "      <td>South</td>\n",
       "      <td>896</td>\n",
       "      <td>0.25</td>\n",
       "      <td>89.60</td>\n",
       "      <td>Tamil Nadu</td>\n",
       "    </tr>\n",
       "    <tr>\n",
       "      <th>4</th>\n",
       "      <td>OD5</td>\n",
       "      <td>Ridhesh</td>\n",
       "      <td>Food Grains</td>\n",
       "      <td>Organic Staples</td>\n",
       "      <td>Ooty</td>\n",
       "      <td>10-11-2016</td>\n",
       "      <td>South</td>\n",
       "      <td>2355</td>\n",
       "      <td>0.26</td>\n",
       "      <td>918.45</td>\n",
       "      <td>Tamil Nadu</td>\n",
       "    </tr>\n",
       "    <tr>\n",
       "      <th>...</th>\n",
       "      <td>...</td>\n",
       "      <td>...</td>\n",
       "      <td>...</td>\n",
       "      <td>...</td>\n",
       "      <td>...</td>\n",
       "      <td>...</td>\n",
       "      <td>...</td>\n",
       "      <td>...</td>\n",
       "      <td>...</td>\n",
       "      <td>...</td>\n",
       "      <td>...</td>\n",
       "    </tr>\n",
       "    <tr>\n",
       "      <th>9989</th>\n",
       "      <td>OD9990</td>\n",
       "      <td>Sudeep</td>\n",
       "      <td>Eggs, Meat &amp; Fish</td>\n",
       "      <td>Eggs</td>\n",
       "      <td>Madurai</td>\n",
       "      <td>12/24/2015</td>\n",
       "      <td>West</td>\n",
       "      <td>945</td>\n",
       "      <td>0.16</td>\n",
       "      <td>359.10</td>\n",
       "      <td>Tamil Nadu</td>\n",
       "    </tr>\n",
       "    <tr>\n",
       "      <th>9990</th>\n",
       "      <td>OD9991</td>\n",
       "      <td>Alan</td>\n",
       "      <td>Bakery</td>\n",
       "      <td>Biscuits</td>\n",
       "      <td>Kanyakumari</td>\n",
       "      <td>07-12-2015</td>\n",
       "      <td>West</td>\n",
       "      <td>1195</td>\n",
       "      <td>0.26</td>\n",
       "      <td>71.70</td>\n",
       "      <td>Tamil Nadu</td>\n",
       "    </tr>\n",
       "    <tr>\n",
       "      <th>9991</th>\n",
       "      <td>OD9992</td>\n",
       "      <td>Ravi</td>\n",
       "      <td>Food Grains</td>\n",
       "      <td>Rice</td>\n",
       "      <td>Bodi</td>\n",
       "      <td>06-06-2017</td>\n",
       "      <td>West</td>\n",
       "      <td>1567</td>\n",
       "      <td>0.16</td>\n",
       "      <td>501.44</td>\n",
       "      <td>Tamil Nadu</td>\n",
       "    </tr>\n",
       "    <tr>\n",
       "      <th>9992</th>\n",
       "      <td>OD9993</td>\n",
       "      <td>Peer</td>\n",
       "      <td>Oil &amp; Masala</td>\n",
       "      <td>Spices</td>\n",
       "      <td>Pudukottai</td>\n",
       "      <td>10/16/2018</td>\n",
       "      <td>West</td>\n",
       "      <td>1659</td>\n",
       "      <td>0.15</td>\n",
       "      <td>597.24</td>\n",
       "      <td>Tamil Nadu</td>\n",
       "    </tr>\n",
       "    <tr>\n",
       "      <th>9993</th>\n",
       "      <td>OD9994</td>\n",
       "      <td>Ganesh</td>\n",
       "      <td>Food Grains</td>\n",
       "      <td>Atta &amp; Flour</td>\n",
       "      <td>Tirunelveli</td>\n",
       "      <td>4/17/2018</td>\n",
       "      <td>West</td>\n",
       "      <td>1034</td>\n",
       "      <td>0.28</td>\n",
       "      <td>165.44</td>\n",
       "      <td>Tamil Nadu</td>\n",
       "    </tr>\n",
       "  </tbody>\n",
       "</table>\n",
       "<p>9994 rows × 11 columns</p>\n",
       "</div>"
      ],
      "text/plain": [
       "     Order ID Customer Name           Category      Sub Category         City  \\\n",
       "0         OD1        Harish       Oil & Masala           Masalas      Vellore   \n",
       "1         OD2         Sudha          Beverages     Health Drinks  Krishnagiri   \n",
       "2         OD3       Hussain        Food Grains      Atta & Flour   Perambalur   \n",
       "3         OD4       Jackson   Fruits & Veggies  Fresh Vegetables   Dharmapuri   \n",
       "4         OD5       Ridhesh        Food Grains   Organic Staples         Ooty   \n",
       "...       ...           ...                ...               ...          ...   \n",
       "9989   OD9990        Sudeep  Eggs, Meat & Fish              Eggs      Madurai   \n",
       "9990   OD9991          Alan             Bakery          Biscuits  Kanyakumari   \n",
       "9991   OD9992          Ravi        Food Grains              Rice         Bodi   \n",
       "9992   OD9993          Peer       Oil & Masala            Spices   Pudukottai   \n",
       "9993   OD9994        Ganesh        Food Grains      Atta & Flour  Tirunelveli   \n",
       "\n",
       "      Order Date Region  Sales  Discount  Profit       State  \n",
       "0     11-08-2017  North   1254      0.12  401.28  Tamil Nadu  \n",
       "1     11-08-2017  South    749      0.18  149.80  Tamil Nadu  \n",
       "2     06-12-2017   West   2360      0.21  165.20  Tamil Nadu  \n",
       "3     10-11-2016  South    896      0.25   89.60  Tamil Nadu  \n",
       "4     10-11-2016  South   2355      0.26  918.45  Tamil Nadu  \n",
       "...          ...    ...    ...       ...     ...         ...  \n",
       "9989  12/24/2015   West    945      0.16  359.10  Tamil Nadu  \n",
       "9990  07-12-2015   West   1195      0.26   71.70  Tamil Nadu  \n",
       "9991  06-06-2017   West   1567      0.16  501.44  Tamil Nadu  \n",
       "9992  10/16/2018   West   1659      0.15  597.24  Tamil Nadu  \n",
       "9993   4/17/2018   West   1034      0.28  165.44  Tamil Nadu  \n",
       "\n",
       "[9994 rows x 11 columns]"
      ]
     },
     "execution_count": 25,
     "metadata": {},
     "output_type": "execute_result"
    }
   ],
   "source": [
    "# Removes duplicates from the data frame\n",
    "grocery.drop_duplicates()"
   ]
  },
  {
   "cell_type": "code",
   "execution_count": 320,
   "id": "d4e12ff8",
   "metadata": {},
   "outputs": [
    {
     "data": {
      "text/plain": [
       "0       [11, 08, 2017]\n",
       "1       [11, 08, 2017]\n",
       "2       [06, 12, 2017]\n",
       "3       [10, 11, 2016]\n",
       "4       [10, 11, 2016]\n",
       "             ...      \n",
       "9990    [07, 12, 2015]\n",
       "9991    [06, 06, 2017]\n",
       "9992    [10, 16, 2018]\n",
       "9993     [4, 17, 2018]\n",
       "9994               NaN\n",
       "Name: Order Date, Length: 9995, dtype: object"
      ]
     },
     "execution_count": 320,
     "metadata": {},
     "output_type": "execute_result"
    }
   ],
   "source": [
    "# splits values in the column based on the condition\n",
    "grocery['Order Date'].str.split('-')"
   ]
  },
  {
   "cell_type": "code",
   "execution_count": 321,
   "id": "4941ba52",
   "metadata": {},
   "outputs": [
    {
     "data": {
      "text/html": [
       "<div>\n",
       "<style scoped>\n",
       "    .dataframe tbody tr th:only-of-type {\n",
       "        vertical-align: middle;\n",
       "    }\n",
       "\n",
       "    .dataframe tbody tr th {\n",
       "        vertical-align: top;\n",
       "    }\n",
       "\n",
       "    .dataframe thead th {\n",
       "        text-align: right;\n",
       "    }\n",
       "</style>\n",
       "<table border=\"1\" class=\"dataframe\">\n",
       "  <thead>\n",
       "    <tr style=\"text-align: right;\">\n",
       "      <th></th>\n",
       "      <th>0</th>\n",
       "      <th>1</th>\n",
       "      <th>2</th>\n",
       "    </tr>\n",
       "  </thead>\n",
       "  <tbody>\n",
       "    <tr>\n",
       "      <th>0</th>\n",
       "      <td>11</td>\n",
       "      <td>08</td>\n",
       "      <td>2017</td>\n",
       "    </tr>\n",
       "    <tr>\n",
       "      <th>1</th>\n",
       "      <td>11</td>\n",
       "      <td>08</td>\n",
       "      <td>2017</td>\n",
       "    </tr>\n",
       "    <tr>\n",
       "      <th>2</th>\n",
       "      <td>06</td>\n",
       "      <td>12</td>\n",
       "      <td>2017</td>\n",
       "    </tr>\n",
       "    <tr>\n",
       "      <th>3</th>\n",
       "      <td>10</td>\n",
       "      <td>11</td>\n",
       "      <td>2016</td>\n",
       "    </tr>\n",
       "    <tr>\n",
       "      <th>4</th>\n",
       "      <td>10</td>\n",
       "      <td>11</td>\n",
       "      <td>2016</td>\n",
       "    </tr>\n",
       "    <tr>\n",
       "      <th>...</th>\n",
       "      <td>...</td>\n",
       "      <td>...</td>\n",
       "      <td>...</td>\n",
       "    </tr>\n",
       "    <tr>\n",
       "      <th>9990</th>\n",
       "      <td>07</td>\n",
       "      <td>12</td>\n",
       "      <td>2015</td>\n",
       "    </tr>\n",
       "    <tr>\n",
       "      <th>9991</th>\n",
       "      <td>06</td>\n",
       "      <td>06</td>\n",
       "      <td>2017</td>\n",
       "    </tr>\n",
       "    <tr>\n",
       "      <th>9992</th>\n",
       "      <td>10</td>\n",
       "      <td>16</td>\n",
       "      <td>2018</td>\n",
       "    </tr>\n",
       "    <tr>\n",
       "      <th>9993</th>\n",
       "      <td>4</td>\n",
       "      <td>17</td>\n",
       "      <td>2018</td>\n",
       "    </tr>\n",
       "    <tr>\n",
       "      <th>9994</th>\n",
       "      <td>NaN</td>\n",
       "      <td>NaN</td>\n",
       "      <td>NaN</td>\n",
       "    </tr>\n",
       "  </tbody>\n",
       "</table>\n",
       "<p>9995 rows × 3 columns</p>\n",
       "</div>"
      ],
      "text/plain": [
       "        0    1     2\n",
       "0      11   08  2017\n",
       "1      11   08  2017\n",
       "2      06   12  2017\n",
       "3      10   11  2016\n",
       "4      10   11  2016\n",
       "...   ...  ...   ...\n",
       "9990   07   12  2015\n",
       "9991   06   06  2017\n",
       "9992   10   16  2018\n",
       "9993    4   17  2018\n",
       "9994  NaN  NaN   NaN\n",
       "\n",
       "[9995 rows x 3 columns]"
      ]
     },
     "execution_count": 321,
     "metadata": {},
     "output_type": "execute_result"
    }
   ],
   "source": [
    "# Splits the values of the cell into separate columns in the table\n",
    "grocery['Order Date'].str.split('-',expand=True)"
   ]
  },
  {
   "cell_type": "code",
   "execution_count": 37,
   "id": "146816cf",
   "metadata": {},
   "outputs": [
    {
     "data": {
      "text/plain": [
       "0       False\n",
       "1       False\n",
       "2        True\n",
       "3       False\n",
       "4       False\n",
       "        ...  \n",
       "9989     True\n",
       "9990     True\n",
       "9991     True\n",
       "9992     True\n",
       "9993     True\n",
       "Name: Region, Length: 9994, dtype: bool"
      ]
     },
     "execution_count": 37,
     "metadata": {},
     "output_type": "execute_result"
    }
   ],
   "source": [
    "# Finds the values which contains letter 'W' from region column in the dataframe\n",
    "grocery['Region'].str.contains('W')"
   ]
  },
  {
   "cell_type": "code",
   "execution_count": 40,
   "id": "c5a6c96c",
   "metadata": {},
   "outputs": [
    {
     "data": {
      "text/plain": [
       "0       False\n",
       "1        True\n",
       "2       False\n",
       "3        True\n",
       "4       False\n",
       "        ...  \n",
       "9989     True\n",
       "9990     True\n",
       "9991    False\n",
       "9992    False\n",
       "9993    False\n",
       "Name: Category, Length: 9994, dtype: bool"
      ]
     },
     "execution_count": 40,
     "metadata": {},
     "output_type": "execute_result"
    }
   ],
   "source": [
    "# Finds the values which contains letter 'e' from category column in the dataframe\n",
    "grocery['Category'].str.contains('e')"
   ]
  },
  {
   "cell_type": "code",
   "execution_count": 36,
   "id": "bd90a650",
   "metadata": {},
   "outputs": [
    {
     "data": {
      "text/plain": [
       "0            Oil & Masala\n",
       "1               Beverages\n",
       "2             Food Grains\n",
       "3        Fruits & Veggies\n",
       "4             Food Grains\n",
       "              ...        \n",
       "9989    Eggs, Meat & Fish\n",
       "9990               Bakery\n",
       "9991          Food Grains\n",
       "9992         Oil & Masala\n",
       "9993          Food Grains\n",
       "Name: Category, Length: 9994, dtype: object"
      ]
     },
     "execution_count": 36,
     "metadata": {},
     "output_type": "execute_result"
    }
   ],
   "source": [
    "# Remove spaces at the beginning and at the end of the string\n",
    "grocery['Category'].str.strip()"
   ]
  },
  {
   "cell_type": "code",
   "execution_count": 42,
   "id": "d35522bc",
   "metadata": {},
   "outputs": [
    {
     "data": {
      "text/plain": [
       "0                  O i l   &   M a s a l a \n",
       "1                        B e v e r a g e s \n",
       "2                    F o o d   G r a i n s \n",
       "3          F r u i t s   &   V e g g i e s \n",
       "4                    F o o d   G r a i n s \n",
       "                       ...                 \n",
       "9989     E g g s ,   M e a t   &   F i s h \n",
       "9990                           B a k e r y \n",
       "9991                 F o o d   G r a i n s \n",
       "9992               O i l   &   M a s a l a \n",
       "9993                 F o o d   G r a i n s \n",
       "Name: Category, Length: 9994, dtype: object"
      ]
     },
     "execution_count": 42,
     "metadata": {},
     "output_type": "execute_result"
    }
   ],
   "source": [
    "# Replaces the column values based on the condition\n",
    "grocery['Category'].str.replace('',' ')"
   ]
  },
  {
   "cell_type": "code",
   "execution_count": 11,
   "id": "9157f350",
   "metadata": {},
   "outputs": [
    {
     "data": {
      "text/html": [
       "<div>\n",
       "<style scoped>\n",
       "    .dataframe tbody tr th:only-of-type {\n",
       "        vertical-align: middle;\n",
       "    }\n",
       "\n",
       "    .dataframe tbody tr th {\n",
       "        vertical-align: top;\n",
       "    }\n",
       "\n",
       "    .dataframe thead th {\n",
       "        text-align: right;\n",
       "    }\n",
       "</style>\n",
       "<table border=\"1\" class=\"dataframe\">\n",
       "  <thead>\n",
       "    <tr style=\"text-align: right;\">\n",
       "      <th></th>\n",
       "      <th>Sales</th>\n",
       "      <th>Discount</th>\n",
       "      <th>Profit</th>\n",
       "    </tr>\n",
       "  </thead>\n",
       "  <tbody>\n",
       "    <tr>\n",
       "      <th>Sales</th>\n",
       "      <td>1.000000</td>\n",
       "      <td>-0.005512</td>\n",
       "      <td>0.605349</td>\n",
       "    </tr>\n",
       "    <tr>\n",
       "      <th>Discount</th>\n",
       "      <td>-0.005512</td>\n",
       "      <td>1.000000</td>\n",
       "      <td>0.000017</td>\n",
       "    </tr>\n",
       "    <tr>\n",
       "      <th>Profit</th>\n",
       "      <td>0.605349</td>\n",
       "      <td>0.000017</td>\n",
       "      <td>1.000000</td>\n",
       "    </tr>\n",
       "  </tbody>\n",
       "</table>\n",
       "</div>"
      ],
      "text/plain": [
       "             Sales  Discount    Profit\n",
       "Sales     1.000000 -0.005512  0.605349\n",
       "Discount -0.005512  1.000000  0.000017\n",
       "Profit    0.605349  0.000017  1.000000"
      ]
     },
     "execution_count": 11,
     "metadata": {},
     "output_type": "execute_result"
    }
   ],
   "source": [
    "# Finds the correlation of each column in a DataFrame\n",
    "grocery.corr()"
   ]
  },
  {
   "cell_type": "code",
   "execution_count": 199,
   "id": "e0ddc598",
   "metadata": {},
   "outputs": [],
   "source": [
    "values=np.random.randn(1000)\n",
    "values2=np.linspace(min(values)-10, max(values)+10, 100)"
   ]
  },
  {
   "cell_type": "code",
   "execution_count": 200,
   "id": "f3253e6d",
   "metadata": {},
   "outputs": [],
   "source": [
    "N=50\n",
    "x=np.random.rand(N)\n",
    "y=np.random.rand(N)\n",
    "colors=np.random.rand(N)\n",
    "area=np.pi*(20*np.random.rand(N))**2"
   ]
  },
  {
   "cell_type": "code",
   "execution_count": 201,
   "id": "5d840aa1",
   "metadata": {},
   "outputs": [
    {
     "name": "stderr",
     "output_type": "stream",
     "text": [
      "No handles with labels found to put in legend.\n"
     ]
    },
    {
     "data": {
      "image/png": "[encoded data removed]",
      "text/plain": [
       "<Figure size 1008x432 with 2 Axes>"
      ]
     },
     "metadata": {
      "needs_background": "light"
     },
     "output_type": "display_data"
    }
   ],
   "source": [
    "# This scatter plot showcases that the profit exponentially increases with Sales\n",
    "a= grocery['Sales']\n",
    "b= grocery['Profit']\n",
    "plt.figure(figsize=(14,6))\n",
    "plt.scatter(a, b, alpha=0.5, edgecolor = 'black')\n",
    "plt.xlabel(\"Sales\")\n",
    "plt.ylabel(\"Profit\")\n",
    "plt.title(\"Profit against Sales\")\n",
    "plt.legend(loc='upper left')\n",
    "plt.colorbar()\n",
    "plt.show()"
   ]
  },
  {
   "cell_type": "code",
   "execution_count": 287,
   "id": "8a931abb",
   "metadata": {
    "scrolled": true
   },
   "outputs": [
    {
     "data": {
      "image/png": "[encoded data removed]",
      "text/plain": [
       "<Figure size 720x360 with 1 Axes>"
      ]
     },
     "metadata": {
      "needs_background": "light"
     },
     "output_type": "display_data"
    }
   ],
   "source": [
    "# This histogram shows the discount applied across various subcategories in the dataset\n",
    "c = grocery['Discount']\n",
    "d = c*100\n",
    "plt.subplots(figsize=(10,5))\n",
    "plt.hist(d, bins=50, alpha=0.8, linewidth = 10,\n",
    "        histtype='bar', color='steelblue')\n",
    "plt.xlim(xmin=0, xmax=50)\n",
    "plt.xlabel(\"Discount\")\n",
    "plt.ylabel(\"Sales\")\n",
    "plt.title(\"Discount classification\")\n",
    "plt.show()"
   ]
  },
  {
   "cell_type": "code",
   "execution_count": 289,
   "id": "26f9c181",
   "metadata": {},
   "outputs": [
    {
     "name": "stderr",
     "output_type": "stream",
     "text": [
      "C:\\ProgramData\\Anaconda3\\lib\\site-packages\\seaborn\\_decorators.py:36: FutureWarning: Pass the following variables as keyword args: x, y. From version 0.12, the only valid positional argument will be `data`, and passing other arguments without an explicit keyword will result in an error or misinterpretation.\n",
      "  warnings.warn(\n"
     ]
    },
    {
     "data": {
      "text/plain": [
       "<seaborn.axisgrid.FacetGrid at 0x21ef959a2b0>"
      ]
     },
     "execution_count": 289,
     "metadata": {},
     "output_type": "execute_result"
    },
    {
     "data": {
      "image/png": "[encoded data removed]",
      "text/plain": [
       "<Figure size 360x360 with 1 Axes>"
      ]
     },
     "metadata": {
      "needs_background": "light"
     },
     "output_type": "display_data"
    }
   ],
   "source": [
    "# Displays the sales made over a period of time\n",
    "sns.relplot('Order Date', 'Sales', data=grocery, kind='line')"
   ]
  },
  {
   "cell_type": "code",
   "execution_count": 340,
   "id": "2b732db9",
   "metadata": {},
   "outputs": [
    {
     "name": "stderr",
     "output_type": "stream",
     "text": [
      "C:\\ProgramData\\Anaconda3\\lib\\site-packages\\seaborn\\_decorators.py:36: FutureWarning: Pass the following variables as keyword args: x, y. From version 0.12, the only valid positional argument will be `data`, and passing other arguments without an explicit keyword will result in an error or misinterpretation.\n",
      "  warnings.warn(\n"
     ]
    },
    {
     "data": {
      "text/plain": [
       "<seaborn.axisgrid.FacetGrid at 0x21e885e80a0>"
      ]
     },
     "execution_count": 340,
     "metadata": {},
     "output_type": "execute_result"
    },
    {
     "data": {
      "image/png": "[encoded data removed]",
      "text/plain": [
       "<Figure size 360x360 with 1 Axes>"
      ]
     },
     "metadata": {
      "needs_background": "light"
     },
     "output_type": "display_data"
    }
   ],
   "source": [
    "# Seaborn plot with confidence Interval (CI) depicting the Sales made against each year\n",
    "sns.relplot('Order Year', 'Sales', data=grocery, kind='line')"
   ]
  },
  {
   "cell_type": "code",
   "execution_count": 349,
   "id": "bb36427c",
   "metadata": {},
   "outputs": [
    {
     "name": "stderr",
     "output_type": "stream",
     "text": [
      "C:\\ProgramData\\Anaconda3\\lib\\site-packages\\seaborn\\_decorators.py:36: FutureWarning: Pass the following variables as keyword args: x, y. From version 0.12, the only valid positional argument will be `data`, and passing other arguments without an explicit keyword will result in an error or misinterpretation.\n",
      "  warnings.warn(\n"
     ]
    },
    {
     "data": {
      "text/plain": [
       "<seaborn.axisgrid.FacetGrid at 0x21e88cb3670>"
      ]
     },
     "execution_count": 349,
     "metadata": {},
     "output_type": "execute_result"
    },
    {
     "data": {
      "image/png": "[encoded data removed]",
      "text/plain": [
       "<Figure size 360x360 with 1 Axes>"
      ]
     },
     "metadata": {
      "needs_background": "light"
     },
     "output_type": "display_data"
    }
   ],
   "source": [
    "# Seaborn plot with confidence Interval (CI) depicting the Profits made against each year\n",
    "sns.relplot('Order Year', 'Profit', data=grocery, kind='line')"
   ]
  },
  {
   "cell_type": "code",
   "execution_count": 351,
   "id": "07538cda",
   "metadata": {},
   "outputs": [
    {
     "name": "stderr",
     "output_type": "stream",
     "text": [
      "C:\\ProgramData\\Anaconda3\\lib\\site-packages\\seaborn\\_decorators.py:36: FutureWarning: Pass the following variables as keyword args: x, y. From version 0.12, the only valid positional argument will be `data`, and passing other arguments without an explicit keyword will result in an error or misinterpretation.\n",
      "  warnings.warn(\n"
     ]
    },
    {
     "data": {
      "text/plain": [
       "<seaborn.axisgrid.FacetGrid at 0x21e8c903340>"
      ]
     },
     "execution_count": 351,
     "metadata": {},
     "output_type": "execute_result"
    },
    {
     "data": {
      "image/png": "[encoded data removed]",
      "text/plain": [
       "<Figure size 360x360 with 1 Axes>"
      ]
     },
     "metadata": {
      "needs_background": "light"
     },
     "output_type": "display_data"
    }
   ],
   "source": [
    "# Seaborn plot with confidence Interval (CI) depicting the discounts made against each year\n",
    "sns.relplot('Order Year', d, data=grocery, kind='line')"
   ]
  },
  {
   "cell_type": "code",
   "execution_count": 216,
   "id": "9dd47c8b",
   "metadata": {},
   "outputs": [
    {
     "name": "stderr",
     "output_type": "stream",
     "text": [
      "C:\\ProgramData\\Anaconda3\\lib\\site-packages\\seaborn\\distributions.py:2619: FutureWarning: `distplot` is a deprecated function and will be removed in a future version. Please adapt your code to use either `displot` (a figure-level function with similar flexibility) or `kdeplot` (an axes-level function for kernel density plots).\n",
      "  warnings.warn(msg, FutureWarning)\n"
     ]
    },
    {
     "data": {
      "image/png": "[encoded data removed]",
      "text/plain": [
       "<Figure size 720x360 with 1 Axes>"
      ]
     },
     "metadata": {
      "needs_background": "light"
     },
     "output_type": "display_data"
    }
   ],
   "source": [
    "# Seaborn plot below displays the sales that were made across cities over a period of time\n",
    "plt.figure(figsize=(10,5))\n",
    "sns.distplot(a=grocery[\"Sales\"],bins=20,hist=False)\n",
    "plt.xlabel(\"Sales\")\n",
    "plt.ylabel(\"Time\")\n",
    "plt.title(\"Sales Distribution\")\n",
    "plt.show()"
   ]
  },
  {
   "cell_type": "code",
   "execution_count": 204,
   "id": "d8ddab83",
   "metadata": {},
   "outputs": [
    {
     "name": "stderr",
     "output_type": "stream",
     "text": [
      "C:\\ProgramData\\Anaconda3\\lib\\site-packages\\seaborn\\distributions.py:2619: FutureWarning: `distplot` is a deprecated function and will be removed in a future version. Please adapt your code to use either `displot` (a figure-level function with similar flexibility) or `histplot` (an axes-level function for histograms).\n",
      "  warnings.warn(msg, FutureWarning)\n"
     ]
    },
    {
     "data": {
      "image/png": "[encoded data removed]",
      "text/plain": [
       "<Figure size 720x360 with 1 Axes>"
      ]
     },
     "metadata": {
      "needs_background": "light"
     },
     "output_type": "display_data"
    }
   ],
   "source": [
    "# Seaborn plot below displays the range of discouts applies across various cities over a period of time\n",
    "plt.figure(figsize=(10,5))\n",
    "sns.distplot(a=grocery[\"Discount\"]*100, bins=20,hist=True)\n",
    "plt.title(\"Discount trend\")\n",
    "plt.show()"
   ]
  },
  {
   "cell_type": "code",
   "execution_count": 205,
   "id": "cce03290",
   "metadata": {},
   "outputs": [
    {
     "name": "stderr",
     "output_type": "stream",
     "text": [
      "C:\\ProgramData\\Anaconda3\\lib\\site-packages\\seaborn\\distributions.py:2619: FutureWarning: `distplot` is a deprecated function and will be removed in a future version. Please adapt your code to use either `displot` (a figure-level function with similar flexibility) or `histplot` (an axes-level function for histograms).\n",
      "  warnings.warn(msg, FutureWarning)\n"
     ]
    },
    {
     "data": {
      "image/png": "[encoded data removed]",
      "text/plain": [
       "<Figure size 720x360 with 1 Axes>"
      ]
     },
     "metadata": {
      "needs_background": "light"
     },
     "output_type": "display_data"
    }
   ],
   "source": [
    "# Seaborn plot below displays the gained against various categories across cities\n",
    "plt.figure(figsize=(10,5))\n",
    "sns.distplot(a=grocery[\"Profit\"],bins=200)\n",
    "plt.title(\"Profit display\")\n",
    "plt.show()"
   ]
  },
  {
   "cell_type": "code",
   "execution_count": 207,
   "id": "cb301c8f",
   "metadata": {},
   "outputs": [
    {
     "data": {
      "image/png": "[encoded data removed]",
      "text/plain": [
       "<Figure size 720x360 with 1 Axes>"
      ]
     },
     "metadata": {
      "needs_background": "light"
     },
     "output_type": "display_data"
    }
   ],
   "source": [
    "# # Showcases the boxplot for profit gained againt each category across various cities\n",
    "plt.figure(figsize=(10,5))\n",
    "sns.boxplot(x=grocery.Profit, data=grocery)\n",
    "plt.title(\"Profit - Boxplot\")\n",
    "plt.show()"
   ]
  },
  {
   "cell_type": "code",
   "execution_count": 211,
   "id": "9c3afc42",
   "metadata": {},
   "outputs": [
    {
     "data": {
      "image/png": "[encoded data removed]",
      "text/plain": [
       "<Figure size 864x432 with 1 Axes>"
      ]
     },
     "metadata": {
      "needs_background": "light"
     },
     "output_type": "display_data"
    }
   ],
   "source": [
    "# Displays the discount applied across category\n",
    "b = grocery['Profit']\n",
    "c = grocery['Discount']\n",
    "d = c*100\n",
    "e = grocery['Category']\n",
    "plt.subplots(figsize=(12,6))\n",
    "plt.xlim(xmin=100, xmax=1000)\n",
    "plt.xlabel(\"Discount\")\n",
    "plt.ylabel(\"Categories\")\n",
    "plt.title(\"Discount per category\")\n",
    "barWidth=0.3\n",
    "plt.bar(b, e, width=barWidth, color='Orange')\n",
    "plt.show()"
   ]
  },
  {
   "cell_type": "code",
   "execution_count": 357,
   "id": "9e110a20",
   "metadata": {},
   "outputs": [
    {
     "data": {
      "text/plain": [
       "Text(0.5, 1.0, 'Sales vs Profit')"
      ]
     },
     "execution_count": 357,
     "metadata": {},
     "output_type": "execute_result"
    },
    {
     "data": {
      "image/png": "[encoded data removed]",
      "text/plain": [
       "<Figure size 864x288 with 1 Axes>"
      ]
     },
     "metadata": {
      "needs_background": "light"
     },
     "output_type": "display_data"
    }
   ],
   "source": [
    "# Displays the Sales against Profit of groceries dataset\n",
    "plt.figure(figsize=(12,4))\n",
    "barWidth=0.5\n",
    "plt.bar(a, b, width=barWidth, color='Silver', label='label Y')\n",
    "plt.xlabel(\"Sales\")\n",
    "plt.ylabel(\"Profit\")\n",
    "plt.title(\"Sales vs Profit\")"
   ]
  },
  {
   "cell_type": "code",
   "execution_count": 22,
   "id": "dbe5e6ef",
   "metadata": {},
   "outputs": [
    {
     "data": {
      "text/plain": [
       "Text(0.5, 1.0, 'Sales - Histogram')"
      ]
     },
     "execution_count": 22,
     "metadata": {},
     "output_type": "execute_result"
    },
    {
     "data": {
      "image/png": "[encoded data removed]",
      "text/plain": [
       "<Figure size 432x288 with 1 Axes>"
      ]
     },
     "metadata": {
      "needs_background": "light"
     },
     "output_type": "display_data"
    }
   ],
   "source": [
    "# Histogram of Sales\n",
    "grocery.hist(column='Sales')\n",
    "plt.xlabel(\"Sales\")\n",
    "plt.title(\"Sales - Histogram\")"
   ]
  },
  {
   "cell_type": "code",
   "execution_count": 19,
   "id": "f33b11ed",
   "metadata": {},
   "outputs": [
    {
     "data": {
      "text/plain": [
       "Text(0.5, 1.0, 'Profit - Histogram')"
      ]
     },
     "execution_count": 19,
     "metadata": {},
     "output_type": "execute_result"
    },
    {
     "data": {
      "image/png": "[encoded data removed]",
      "text/plain": [
       "<Figure size 432x288 with 1 Axes>"
      ]
     },
     "metadata": {
      "needs_background": "light"
     },
     "output_type": "display_data"
    }
   ],
   "source": [
    "# Histogram of Profit\n",
    "grocery.hist(column='Profit')\n",
    "plt.xlabel(\"Profit\")\n",
    "plt.title(\"Profit - Histogram\")"
   ]
  },
  {
   "cell_type": "code",
   "execution_count": null,
   "id": "94329231",
   "metadata": {},
   "outputs": [],
   "source": []
  }
 ],
 "metadata": {
  "kernelspec": {
   "display_name": "Python 3 (ipykernel)",
   "language": "python",
   "name": "python3"
  },
  "language_info": {
   "codemirror_mode": {
    "name": "ipython",
    "version": 3
   },
   "file_extension": ".py",
   "mimetype": "text/x-python",
   "name": "python",
   "nbconvert_exporter": "python",
   "pygments_lexer": "ipython3",
   "version": "3.9.7"
  }
 },
 "nbformat": 4,
 "nbformat_minor": 5
}
